{
 "cells": [
  {
   "cell_type": "code",
   "execution_count": 1,
   "metadata": {
    "collapsed": true
   },
   "outputs": [],
   "source": [
    "import numpy as np\n",
    "import pandas as pd\n",
    "import matplotlib.pyplot as plt\n",
    "import seaborn as sns\n",
    "import pymc3 as pm, theano.tensor as tt"
   ]
  },
  {
   "cell_type": "code",
   "execution_count": 2,
   "metadata": {
    "collapsed": true
   },
   "outputs": [],
   "source": [
    "%matplotlib inline"
   ]
  },
  {
   "cell_type": "markdown",
   "metadata": {},
   "source": [
    "### What's the Point of Practicing Penalties?"
   ]
  },
  {
   "cell_type": "markdown",
   "metadata": {},
   "source": [
    "What if we wanted to rank MLS penalty kickers? What would be the best way to go about it?\n",
    "\n",
    "We could look at historical PKs, and take the players who have converted the highest percentage of their chances. Let's load in our data to do that:"
   ]
  },
  {
   "cell_type": "code",
   "execution_count": 3,
   "metadata": {},
   "outputs": [
    {
     "data": {
      "text/html": [
       "<div>\n",
       "<table border=\"1\" class=\"dataframe\">\n",
       "  <thead>\n",
       "    <tr style=\"text-align: right;\">\n",
       "      <th></th>\n",
       "      <th>date</th>\n",
       "      <th>time</th>\n",
       "      <th>shooter</th>\n",
       "      <th>team</th>\n",
       "      <th>keeper</th>\n",
       "      <th>opposition</th>\n",
       "      <th>result</th>\n",
       "      <th>home_team</th>\n",
       "      <th>away_team</th>\n",
       "      <th>home_score</th>\n",
       "      <th>away_score</th>\n",
       "      <th>goal</th>\n",
       "      <th>on_target</th>\n",
       "      <th>save</th>\n",
       "    </tr>\n",
       "  </thead>\n",
       "  <tbody>\n",
       "    <tr>\n",
       "      <th>0</th>\n",
       "      <td>3/7/2015</td>\n",
       "      <td>89:42:00</td>\n",
       "      <td>Jozy Altidore</td>\n",
       "      <td>Toronto</td>\n",
       "      <td>David Ousted</td>\n",
       "      <td>Vancouver</td>\n",
       "      <td>Goal</td>\n",
       "      <td>Vancouver</td>\n",
       "      <td>Toronto</td>\n",
       "      <td>1</td>\n",
       "      <td>2</td>\n",
       "      <td>1</td>\n",
       "      <td>1</td>\n",
       "      <td>0</td>\n",
       "    </tr>\n",
       "    <tr>\n",
       "      <th>1</th>\n",
       "      <td>3/9/2015</td>\n",
       "      <td>24:36:00</td>\n",
       "      <td>Clint Dempsey</td>\n",
       "      <td>Seattle</td>\n",
       "      <td>Bobby Shuttleworth</td>\n",
       "      <td>New England</td>\n",
       "      <td>Goal</td>\n",
       "      <td>Seattle</td>\n",
       "      <td>New England</td>\n",
       "      <td>0</td>\n",
       "      <td>0</td>\n",
       "      <td>1</td>\n",
       "      <td>1</td>\n",
       "      <td>0</td>\n",
       "    </tr>\n",
       "    <tr>\n",
       "      <th>2</th>\n",
       "      <td>3/15/2015</td>\n",
       "      <td>85:57:00</td>\n",
       "      <td>Alvaro Saborio</td>\n",
       "      <td>Salt Lake</td>\n",
       "      <td>Rais M'bolhi</td>\n",
       "      <td>Philadelphia</td>\n",
       "      <td>Goal</td>\n",
       "      <td>Salt Lake</td>\n",
       "      <td>Philadelphia</td>\n",
       "      <td>2</td>\n",
       "      <td>3</td>\n",
       "      <td>1</td>\n",
       "      <td>1</td>\n",
       "      <td>0</td>\n",
       "    </tr>\n",
       "    <tr>\n",
       "      <th>3</th>\n",
       "      <td>3/15/2015</td>\n",
       "      <td>78:56:00</td>\n",
       "      <td>Dominic Dwyer</td>\n",
       "      <td>Kansas City</td>\n",
       "      <td>Chris Seitz</td>\n",
       "      <td>FC Dallas</td>\n",
       "      <td>Saved</td>\n",
       "      <td>FC Dallas</td>\n",
       "      <td>Kansas City</td>\n",
       "      <td>3</td>\n",
       "      <td>1</td>\n",
       "      <td>0</td>\n",
       "      <td>1</td>\n",
       "      <td>1</td>\n",
       "    </tr>\n",
       "    <tr>\n",
       "      <th>4</th>\n",
       "      <td>3/22/2015</td>\n",
       "      <td>91:01:00</td>\n",
       "      <td>Chris Pontius</td>\n",
       "      <td>DC United</td>\n",
       "      <td>Luis Robles</td>\n",
       "      <td>New York</td>\n",
       "      <td>Miss</td>\n",
       "      <td>New York</td>\n",
       "      <td>DC United</td>\n",
       "      <td>2</td>\n",
       "      <td>0</td>\n",
       "      <td>0</td>\n",
       "      <td>0</td>\n",
       "      <td>0</td>\n",
       "    </tr>\n",
       "  </tbody>\n",
       "</table>\n",
       "</div>"
      ],
      "text/plain": [
       "        date      time         shooter         team              keeper  \\\n",
       "0   3/7/2015  89:42:00   Jozy Altidore      Toronto        David Ousted   \n",
       "1   3/9/2015  24:36:00   Clint Dempsey      Seattle  Bobby Shuttleworth   \n",
       "2  3/15/2015  85:57:00  Alvaro Saborio    Salt Lake        Rais M'bolhi   \n",
       "3  3/15/2015  78:56:00   Dominic Dwyer  Kansas City         Chris Seitz   \n",
       "4  3/22/2015  91:01:00   Chris Pontius    DC United         Luis Robles   \n",
       "\n",
       "     opposition result  home_team     away_team  home_score  away_score  goal  \\\n",
       "0     Vancouver   Goal  Vancouver       Toronto           1           2     1   \n",
       "1   New England   Goal    Seattle   New England           0           0     1   \n",
       "2  Philadelphia   Goal  Salt Lake  Philadelphia           2           3     1   \n",
       "3     FC Dallas  Saved  FC Dallas   Kansas City           3           1     0   \n",
       "4      New York   Miss   New York     DC United           2           0     0   \n",
       "\n",
       "   on_target  save  \n",
       "0          1     0  \n",
       "1          1     0  \n",
       "2          1     0  \n",
       "3          1     1  \n",
       "4          0     0  "
      ]
     },
     "execution_count": 3,
     "metadata": {},
     "output_type": "execute_result"
    }
   ],
   "source": [
    "penalties = pd.read_csv('mls_pks_11_to_17.csv')\n",
    "penalties.head()"
   ]
  },
  {
   "cell_type": "markdown",
   "metadata": {},
   "source": [
    "And let's get data frames rolled up to the shooter and to the keeper level."
   ]
  },
  {
   "cell_type": "code",
   "execution_count": 4,
   "metadata": {},
   "outputs": [
    {
     "data": {
      "text/html": [
       "<div>\n",
       "<table border=\"1\" class=\"dataframe\">\n",
       "  <thead>\n",
       "    <tr style=\"text-align: right;\">\n",
       "      <th></th>\n",
       "      <th>shooter</th>\n",
       "      <th>goals</th>\n",
       "      <th>proportion</th>\n",
       "      <th>attempts</th>\n",
       "    </tr>\n",
       "  </thead>\n",
       "  <tbody>\n",
       "    <tr>\n",
       "      <th>0</th>\n",
       "      <td>Alberth Elis</td>\n",
       "      <td>1</td>\n",
       "      <td>1.000000</td>\n",
       "      <td>1</td>\n",
       "    </tr>\n",
       "    <tr>\n",
       "      <th>1</th>\n",
       "      <td>Alejandro Bedoya</td>\n",
       "      <td>0</td>\n",
       "      <td>0.000000</td>\n",
       "      <td>1</td>\n",
       "    </tr>\n",
       "    <tr>\n",
       "      <th>2</th>\n",
       "      <td>Alvaro Fernandez</td>\n",
       "      <td>1</td>\n",
       "      <td>0.500000</td>\n",
       "      <td>2</td>\n",
       "    </tr>\n",
       "    <tr>\n",
       "      <th>3</th>\n",
       "      <td>Alvaro Saborio</td>\n",
       "      <td>13</td>\n",
       "      <td>0.866667</td>\n",
       "      <td>15</td>\n",
       "    </tr>\n",
       "    <tr>\n",
       "      <th>4</th>\n",
       "      <td>Andre Akpan</td>\n",
       "      <td>1</td>\n",
       "      <td>1.000000</td>\n",
       "      <td>1</td>\n",
       "    </tr>\n",
       "  </tbody>\n",
       "</table>\n",
       "</div>"
      ],
      "text/plain": [
       "            shooter  goals  proportion  attempts\n",
       "0      Alberth Elis      1    1.000000         1\n",
       "1  Alejandro Bedoya      0    0.000000         1\n",
       "2  Alvaro Fernandez      1    0.500000         2\n",
       "3    Alvaro Saborio     13    0.866667        15\n",
       "4       Andre Akpan      1    1.000000         1"
      ]
     },
     "execution_count": 4,
     "metadata": {},
     "output_type": "execute_result"
    }
   ],
   "source": [
    "shooters = penalties.groupby('shooter').goal.agg(['sum', 'mean', 'size']).reset_index()\n",
    "shooters.columns = ['shooter', 'goals', 'proportion', 'attempts']\n",
    "shooters.head()"
   ]
  },
  {
   "cell_type": "code",
   "execution_count": 6,
   "metadata": {},
   "outputs": [
    {
     "data": {
      "text/html": [
       "<div>\n",
       "<table border=\"1\" class=\"dataframe\">\n",
       "  <thead>\n",
       "    <tr style=\"text-align: right;\">\n",
       "      <th></th>\n",
       "      <th>keeper</th>\n",
       "      <th>goals</th>\n",
       "      <th>proportion</th>\n",
       "      <th>attempts</th>\n",
       "    </tr>\n",
       "  </thead>\n",
       "  <tbody>\n",
       "    <tr>\n",
       "      <th>69</th>\n",
       "      <td>Stefan Marinovic</td>\n",
       "      <td>0</td>\n",
       "      <td>0.0</td>\n",
       "      <td>1</td>\n",
       "    </tr>\n",
       "    <tr>\n",
       "      <th>60</th>\n",
       "      <td>Milos Kocic</td>\n",
       "      <td>0</td>\n",
       "      <td>0.0</td>\n",
       "      <td>1</td>\n",
       "    </tr>\n",
       "    <tr>\n",
       "      <th>47</th>\n",
       "      <td>Jon Kempin</td>\n",
       "      <td>0</td>\n",
       "      <td>0.0</td>\n",
       "      <td>3</td>\n",
       "    </tr>\n",
       "    <tr>\n",
       "      <th>19</th>\n",
       "      <td>Carlo Cudicini</td>\n",
       "      <td>0</td>\n",
       "      <td>0.0</td>\n",
       "      <td>1</td>\n",
       "    </tr>\n",
       "    <tr>\n",
       "      <th>15</th>\n",
       "      <td>Brad Stuver</td>\n",
       "      <td>0</td>\n",
       "      <td>0.0</td>\n",
       "      <td>1</td>\n",
       "    </tr>\n",
       "  </tbody>\n",
       "</table>\n",
       "</div>"
      ],
      "text/plain": [
       "              keeper  goals  proportion  attempts\n",
       "69  Stefan Marinovic      0         0.0         1\n",
       "60       Milos Kocic      0         0.0         1\n",
       "47        Jon Kempin      0         0.0         3\n",
       "19    Carlo Cudicini      0         0.0         1\n",
       "15       Brad Stuver      0         0.0         1"
      ]
     },
     "execution_count": 6,
     "metadata": {},
     "output_type": "execute_result"
    }
   ],
   "source": [
    "keepers = penalties.groupby('keeper').goal.agg(['sum', 'mean', 'size']).reset_index()\n",
    "keepers.columns = ['keeper', 'goals', 'proportion', 'attempts']\n",
    "keepers.sort_values('proportion').head()"
   ]
  },
  {
   "cell_type": "markdown",
   "metadata": {},
   "source": [
    "Here are a handful a players who have scored 100% of their regular season penalties, going back to 2011:\n",
    "\n",
    "Octavio Rivero, Victor Bernardez, Danny Cruz, Servando Carrasco, Shaun Maloney, Gonzalo Pineda, Brek Shea, Hendry Thomas\n",
    "\n",
    "Raise your hand if you want Victor Bernardez taking your team's PKs."
   ]
  },
  {
   "cell_type": "markdown",
   "metadata": {},
   "source": [
    "We could also incorporate number of attempts each player has taken, and use that as a tie-breaker for players with the same percentages. Here are the ten best shooters using that method:"
   ]
  },
  {
   "cell_type": "code",
   "execution_count": 7,
   "metadata": {},
   "outputs": [
    {
     "data": {
      "text/html": [
       "<div>\n",
       "<table border=\"1\" class=\"dataframe\">\n",
       "  <thead>\n",
       "    <tr style=\"text-align: right;\">\n",
       "      <th></th>\n",
       "      <th>shooter</th>\n",
       "      <th>goals</th>\n",
       "      <th>proportion</th>\n",
       "      <th>attempts</th>\n",
       "    </tr>\n",
       "  </thead>\n",
       "  <tbody>\n",
       "    <tr>\n",
       "      <th>7</th>\n",
       "      <td>Benny Feilhaber</td>\n",
       "      <td>12</td>\n",
       "      <td>1.0</td>\n",
       "      <td>12</td>\n",
       "    </tr>\n",
       "    <tr>\n",
       "      <th>12</th>\n",
       "      <td>Brad Evans</td>\n",
       "      <td>9</td>\n",
       "      <td>1.0</td>\n",
       "      <td>9</td>\n",
       "    </tr>\n",
       "    <tr>\n",
       "      <th>18</th>\n",
       "      <td>Camilo Da Silva Sanvezzo</td>\n",
       "      <td>7</td>\n",
       "      <td>1.0</td>\n",
       "      <td>7</td>\n",
       "    </tr>\n",
       "    <tr>\n",
       "      <th>117</th>\n",
       "      <td>Michel Garbini Pereira</td>\n",
       "      <td>6</td>\n",
       "      <td>1.0</td>\n",
       "      <td>6</td>\n",
       "    </tr>\n",
       "    <tr>\n",
       "      <th>160</th>\n",
       "      <td>Vicente Sanchez</td>\n",
       "      <td>6</td>\n",
       "      <td>1.0</td>\n",
       "      <td>6</td>\n",
       "    </tr>\n",
       "    <tr>\n",
       "      <th>5</th>\n",
       "      <td>Andres Mendoza</td>\n",
       "      <td>5</td>\n",
       "      <td>1.0</td>\n",
       "      <td>5</td>\n",
       "    </tr>\n",
       "    <tr>\n",
       "      <th>16</th>\n",
       "      <td>C.J. Sapong</td>\n",
       "      <td>4</td>\n",
       "      <td>1.0</td>\n",
       "      <td>4</td>\n",
       "    </tr>\n",
       "    <tr>\n",
       "      <th>34</th>\n",
       "      <td>Daniel Royer</td>\n",
       "      <td>4</td>\n",
       "      <td>1.0</td>\n",
       "      <td>4</td>\n",
       "    </tr>\n",
       "    <tr>\n",
       "      <th>38</th>\n",
       "      <td>David Accam</td>\n",
       "      <td>4</td>\n",
       "      <td>1.0</td>\n",
       "      <td>4</td>\n",
       "    </tr>\n",
       "    <tr>\n",
       "      <th>68</th>\n",
       "      <td>Giovani dos Santos</td>\n",
       "      <td>4</td>\n",
       "      <td>1.0</td>\n",
       "      <td>4</td>\n",
       "    </tr>\n",
       "  </tbody>\n",
       "</table>\n",
       "</div>"
      ],
      "text/plain": [
       "                      shooter  goals  proportion  attempts\n",
       "7             Benny Feilhaber     12         1.0        12\n",
       "12                 Brad Evans      9         1.0         9\n",
       "18   Camilo Da Silva Sanvezzo      7         1.0         7\n",
       "117    Michel Garbini Pereira      6         1.0         6\n",
       "160           Vicente Sanchez      6         1.0         6\n",
       "5              Andres Mendoza      5         1.0         5\n",
       "16                C.J. Sapong      4         1.0         4\n",
       "34               Daniel Royer      4         1.0         4\n",
       "38                David Accam      4         1.0         4\n",
       "68         Giovani dos Santos      4         1.0         4"
      ]
     },
     "execution_count": 7,
     "metadata": {},
     "output_type": "execute_result"
    }
   ],
   "source": [
    "shooters.sort_values(['proportion', 'attempts'], ascending=False)[0:10]"
   ]
  },
  {
   "cell_type": "markdown",
   "metadata": {},
   "source": [
    "The top looks a bit better, but what about the players at the bottom:"
   ]
  },
  {
   "cell_type": "code",
   "execution_count": 8,
   "metadata": {},
   "outputs": [
    {
     "data": {
      "text/html": [
       "<div>\n",
       "<table border=\"1\" class=\"dataframe\">\n",
       "  <thead>\n",
       "    <tr style=\"text-align: right;\">\n",
       "      <th></th>\n",
       "      <th>shooter</th>\n",
       "      <th>goals</th>\n",
       "      <th>proportion</th>\n",
       "      <th>attempts</th>\n",
       "    </tr>\n",
       "  </thead>\n",
       "  <tbody>\n",
       "    <tr>\n",
       "      <th>115</th>\n",
       "      <td>Michael Bradley</td>\n",
       "      <td>0</td>\n",
       "      <td>0.0</td>\n",
       "      <td>1</td>\n",
       "    </tr>\n",
       "    <tr>\n",
       "      <th>116</th>\n",
       "      <td>Michael Farfan</td>\n",
       "      <td>0</td>\n",
       "      <td>0.0</td>\n",
       "      <td>1</td>\n",
       "    </tr>\n",
       "    <tr>\n",
       "      <th>128</th>\n",
       "      <td>Omar Cummings</td>\n",
       "      <td>0</td>\n",
       "      <td>0.0</td>\n",
       "      <td>1</td>\n",
       "    </tr>\n",
       "    <tr>\n",
       "      <th>137</th>\n",
       "      <td>Rafael Marquez</td>\n",
       "      <td>0</td>\n",
       "      <td>0.0</td>\n",
       "      <td>1</td>\n",
       "    </tr>\n",
       "    <tr>\n",
       "      <th>144</th>\n",
       "      <td>Ryan Johnson</td>\n",
       "      <td>0</td>\n",
       "      <td>0.0</td>\n",
       "      <td>1</td>\n",
       "    </tr>\n",
       "    <tr>\n",
       "      <th>147</th>\n",
       "      <td>Sal Zizzo</td>\n",
       "      <td>0</td>\n",
       "      <td>0.0</td>\n",
       "      <td>1</td>\n",
       "    </tr>\n",
       "    <tr>\n",
       "      <th>155</th>\n",
       "      <td>Steven Gerrard</td>\n",
       "      <td>0</td>\n",
       "      <td>0.0</td>\n",
       "      <td>1</td>\n",
       "    </tr>\n",
       "    <tr>\n",
       "      <th>156</th>\n",
       "      <td>Terry Dunfield</td>\n",
       "      <td>0</td>\n",
       "      <td>0.0</td>\n",
       "      <td>1</td>\n",
       "    </tr>\n",
       "    <tr>\n",
       "      <th>158</th>\n",
       "      <td>Thierry Henry</td>\n",
       "      <td>0</td>\n",
       "      <td>0.0</td>\n",
       "      <td>1</td>\n",
       "    </tr>\n",
       "    <tr>\n",
       "      <th>159</th>\n",
       "      <td>Torsten Frings</td>\n",
       "      <td>0</td>\n",
       "      <td>0.0</td>\n",
       "      <td>1</td>\n",
       "    </tr>\n",
       "  </tbody>\n",
       "</table>\n",
       "</div>"
      ],
      "text/plain": [
       "             shooter  goals  proportion  attempts\n",
       "115  Michael Bradley      0         0.0         1\n",
       "116   Michael Farfan      0         0.0         1\n",
       "128    Omar Cummings      0         0.0         1\n",
       "137   Rafael Marquez      0         0.0         1\n",
       "144     Ryan Johnson      0         0.0         1\n",
       "147        Sal Zizzo      0         0.0         1\n",
       "155   Steven Gerrard      0         0.0         1\n",
       "156   Terry Dunfield      0         0.0         1\n",
       "158    Thierry Henry      0         0.0         1\n",
       "159   Torsten Frings      0         0.0         1"
      ]
     },
     "execution_count": 8,
     "metadata": {},
     "output_type": "execute_result"
    }
   ],
   "source": [
    "shooters.sort_values(['proportion', 'attempts'], ascending=False)[-10:]"
   ]
  },
  {
   "cell_type": "markdown",
   "metadata": {},
   "source": [
    "Do we really believe Michael Bradley and Thierry Henry are worse than Ryan Finley, a man who somehow managed to be entrusted with two penalties in just 800 total MLS minutes? And what about Steven Gerrard, whose only attempt came against Nick Rimando and his fantastic 47% success rate?"
   ]
  },
  {
   "cell_type": "markdown",
   "metadata": {},
   "source": [
    "We can use Bayesian inference, and, more specifically here, [Item Response Theory](https://en.wikipedia.org/wiki/Item_response_theory), to get at each player's true propensity to score penalties in a bit more nuanced and comprehensive way than looking only at his historic totals. To put it informally, with Bayesian inference we begin an analysis with some hypothesis about each player's true penalty scoring ability, and we update that hypothesis as we see additional data. There is some good precendent for using this sort of approach to measure scoring ability. See [here](https://statsbomb.com/2017/07/quantifying-finishing-skill/) and [here](http://www.optasportspro.com/about/optapro-blog/posts/2017/blog-re-examining-finishing-skill/) for two excellent articles. (I'm applying the method below specifically to shots from the penalty spot, but, with a few tweaks and considerations, it can be applied more widely. Stay tuned.)"
   ]
  },
  {
   "cell_type": "markdown",
   "metadata": {},
   "source": [
    "Using an Item Response Theory framework, I'll model the probability, $p_k$, of penalty $k$ going in  as a function of a shooter $i$'s latent penalty taking ability, $\\theta_i$, and a goalkeeper $j$'s latent penalty stopping ability, $b_j$. (See [here](http://austinrochford.com/posts/2017-04-04-nba-irt.html) for a fantastic piece that uses IRT to model NBA late game fouls, from which I borrow heavily.)\n",
    "\n",
    "That is:"
   ]
  },
  {
   "cell_type": "markdown",
   "metadata": {},
   "source": [
    "$$\n",
    "\\begin{align*}\n",
    "\\eta_k &= \\theta_i - b_j\n",
    "\\newline\n",
    "p_k &= \\frac{1}{1 + \\exp(-\\eta_k)}\n",
    "\\end{align*}\n",
    "$$"
   ]
  },
  {
   "cell_type": "markdown",
   "metadata": {},
   "source": [
    "Here the higher the penalty taker's ability, $\\theta_i$, the more likely the shot will go in. The higher the keeper's ability, $b_j$, the less likely the shot will go in.\n",
    "\n",
    "Including an effect for the goalkeeper, while making the model more true to reality, also has the added effect of giving us an estimate of goalie ability simultaneously. I should note though that I'm still crediting off-target shots to the keeper as a save. This might not be wholly accurate, but I think if you squint hard enough the case could be made that a goalie's positioning, or size, or intimidation can factor into off-target penalties."
   ]
  },
  {
   "cell_type": "markdown",
   "metadata": {},
   "source": [
    "We'll define our prior beliefs on $\\theta$ and $b$ as below:"
   ]
  },
  {
   "cell_type": "markdown",
   "metadata": {},
   "source": [
    "$$\n",
    "\\begin{align*}\n",
    "\\mu_\\theta &\\sim N(0, 100)\n",
    "\\newline\n",
    "\\sigma_\\theta &\\sim \\mathrm{HalfStudentT(3,\\ 2.5)}\n",
    "\\newline\n",
    "\\theta_i &\\sim N(\\mu_\\theta,\\ \\sigma_\\theta)\n",
    "\\newline\n",
    "\\newline\n",
    "\\sigma_b &\\sim \\mathrm{HalfStudentT(3,\\ 2.5)}\n",
    "\\newline\n",
    "b_j &\\sim N(0,\\ \\sigma_b)\n",
    "\\end{align*}\n",
    "$$"
   ]
  },
  {
   "cell_type": "markdown",
   "metadata": {},
   "source": [
    "To do that with our code, let's first first initialize some other values we'll need:"
   ]
  },
  {
   "cell_type": "code",
   "execution_count": 9,
   "metadata": {
    "collapsed": true
   },
   "outputs": [],
   "source": [
    "# define the shape of our scale parameters\n",
    "n_shooters = shooters.shape[0]\n",
    "n_keepers = keepers.shape[0]"
   ]
  },
  {
   "cell_type": "code",
   "execution_count": 10,
   "metadata": {
    "collapsed": true
   },
   "outputs": [],
   "source": [
    "# be able to index our shooters\n",
    "shooters['shooter_id'] = range(n_shooters)\n",
    "keepers['keeper_id'] = range(n_keepers)"
   ]
  },
  {
   "cell_type": "code",
   "execution_count": 11,
   "metadata": {
    "collapsed": true
   },
   "outputs": [],
   "source": [
    "# tack on those id's to our by shot data\n",
    "penalties = pd.merge(penalties, shooters, on='shooter')\n",
    "penalties = pd.merge(penalties, keepers, on='keeper')"
   ]
  },
  {
   "cell_type": "code",
   "execution_count": 12,
   "metadata": {
    "collapsed": true
   },
   "outputs": [],
   "source": [
    "# pull the lists of importance out\n",
    "shooter_id = penalties.shooter_id.values\n",
    "keeper_id = penalties.keeper_id.values\n",
    "outcome = penalties.goal"
   ]
  },
  {
   "cell_type": "markdown",
   "metadata": {},
   "source": [
    "Here's where we actually define the model:"
   ]
  },
  {
   "cell_type": "code",
   "execution_count": 13,
   "metadata": {
    "collapsed": true
   },
   "outputs": [],
   "source": [
    "with pm.Model() as irt_model:\n",
    "    mu_theta = pm.Normal('mu_theta', 0., 10.)\n",
    "    delta_theta = pm.Normal('delta_theta', 0., 1., shape=n_shooters)\n",
    "    sigma_theta = pm.HalfStudentT('sigma_theta', nu=3, sd=2.5)\n",
    "    theta = pm.Deterministic('theta', mu_theta + delta_theta * sigma_theta)\n",
    "    \n",
    "    delta_b = pm.Normal('delta_b', 0., 1., shape=n_keepers)\n",
    "    sigma_b = pm.HalfStudentT('sigma_b', nu=3, sd=2.5)\n",
    "    b = pm.Deterministic('b', 0 + delta_b * sigma_b)"
   ]
  },
  {
   "cell_type": "code",
   "execution_count": 14,
   "metadata": {
    "collapsed": true
   },
   "outputs": [],
   "source": [
    "with irt_model:\n",
    "    eta = theta[shooter_id] - b[keeper_id]\n",
    "    p = pm.Deterministic('p', pm.math.sigmoid(eta))\n",
    "    y = pm.Bernoulli('y_obs', p, observed=outcome)"
   ]
  },
  {
   "cell_type": "markdown",
   "metadata": {},
   "source": [
    "Using [MCMC sampling](https://en.wikipedia.org/wiki/Markov_chain_Monte_Carlo), we can incorporate the data we have on each shooter and keeper to update those prior beliefs into what is more or less our best estimate of the latent ability of each shooter and each keeper."
   ]
  },
  {
   "cell_type": "code",
   "execution_count": 15,
   "metadata": {},
   "outputs": [
    {
     "name": "stderr",
     "output_type": "stream",
     "text": [
      "Auto-assigning NUTS sampler...\n",
      "Initializing NUTS using jitter+adapt_diag...\n",
      "100%|██████████| 6000/6000 [00:44<00:00, 134.71it/s]\n"
     ]
    }
   ],
   "source": [
    "with irt_model:\n",
    "        irt_trace = pm.sample(4000, tune=2000, random_seed=1112)[2000:]"
   ]
  },
  {
   "cell_type": "markdown",
   "metadata": {},
   "source": [
    "Let's take a look at an energyplot to get an idea of whether we have sampling issues:"
   ]
  },
  {
   "cell_type": "code",
   "execution_count": 16,
   "metadata": {},
   "outputs": [
    {
     "data": {
      "text/plain": [
       "<matplotlib.axes._subplots.AxesSubplot at 0x7f8f9c710358>"
      ]
     },
     "execution_count": 16,
     "metadata": {},
     "output_type": "execute_result"
    },
    {
     "data": {
      "image/png": "[encoded data removed]",
      "text/plain": [
       "<matplotlib.figure.Figure at 0x7f8fa0763f60>"
      ]
     },
     "metadata": {},
     "output_type": "display_data"
    }
   ],
   "source": [
    "pm.energyplot(irt_trace)"
   ]
  },
  {
   "cell_type": "markdown",
   "metadata": {},
   "source": [
    "Looks pretty good."
   ]
  },
  {
   "cell_type": "markdown",
   "metadata": {},
   "source": [
    "Now we've got our posteriors, let's look at what we actually care about, some credible intervals for the best and worst penalty takers (highest and lowest average $\\theta$'s)."
   ]
  },
  {
   "cell_type": "markdown",
   "metadata": {},
   "source": [
    "First, some code to pull out the necessary values from our trace (borrowed from the IRT post linked above)."
   ]
  },
  {
   "cell_type": "code",
   "execution_count": 18,
   "metadata": {
    "collapsed": true
   },
   "outputs": [],
   "source": [
    "def to_param_df(player_df, trace, varnames, id_column):\n",
    "    df = player_df\n",
    "    \n",
    "    for name in varnames:\n",
    "        mean = trace[name].mean(axis=0)\n",
    "        low, high = np.percentile(trace[name], [5, 95], axis=0)\n",
    "        \n",
    "        df = df.assign(**{\n",
    "            '{}_mean'.format(name): mean[df[id_column]],\n",
    "            '{}_low'.format(name): low[df[id_column]],\n",
    "            '{}_high'.format(name): high[df[id_column]]\n",
    "        })\n",
    "        \n",
    "    return df"
   ]
  },
  {
   "cell_type": "code",
   "execution_count": 19,
   "metadata": {},
   "outputs": [
    {
     "data": {
      "text/html": [
       "<div>\n",
       "<table border=\"1\" class=\"dataframe\">\n",
       "  <thead>\n",
       "    <tr style=\"text-align: right;\">\n",
       "      <th></th>\n",
       "      <th>shooter</th>\n",
       "      <th>goals</th>\n",
       "      <th>proportion</th>\n",
       "      <th>attempts</th>\n",
       "      <th>shooter_id</th>\n",
       "      <th>theta_high</th>\n",
       "      <th>theta_low</th>\n",
       "      <th>theta_mean</th>\n",
       "    </tr>\n",
       "  </thead>\n",
       "  <tbody>\n",
       "    <tr>\n",
       "      <th>0</th>\n",
       "      <td>Alberth Elis</td>\n",
       "      <td>1</td>\n",
       "      <td>1.000000</td>\n",
       "      <td>1</td>\n",
       "      <td>0</td>\n",
       "      <td>1.762119</td>\n",
       "      <td>0.917951</td>\n",
       "      <td>1.320619</td>\n",
       "    </tr>\n",
       "    <tr>\n",
       "      <th>1</th>\n",
       "      <td>Alejandro Bedoya</td>\n",
       "      <td>0</td>\n",
       "      <td>0.000000</td>\n",
       "      <td>1</td>\n",
       "      <td>1</td>\n",
       "      <td>1.684209</td>\n",
       "      <td>0.824510</td>\n",
       "      <td>1.273567</td>\n",
       "    </tr>\n",
       "    <tr>\n",
       "      <th>2</th>\n",
       "      <td>Alvaro Fernandez</td>\n",
       "      <td>1</td>\n",
       "      <td>0.500000</td>\n",
       "      <td>2</td>\n",
       "      <td>2</td>\n",
       "      <td>1.718528</td>\n",
       "      <td>0.814800</td>\n",
       "      <td>1.277663</td>\n",
       "    </tr>\n",
       "    <tr>\n",
       "      <th>3</th>\n",
       "      <td>Alvaro Saborio</td>\n",
       "      <td>13</td>\n",
       "      <td>0.866667</td>\n",
       "      <td>15</td>\n",
       "      <td>3</td>\n",
       "      <td>1.809901</td>\n",
       "      <td>1.023062</td>\n",
       "      <td>1.366652</td>\n",
       "    </tr>\n",
       "    <tr>\n",
       "      <th>4</th>\n",
       "      <td>Andre Akpan</td>\n",
       "      <td>1</td>\n",
       "      <td>1.000000</td>\n",
       "      <td>1</td>\n",
       "      <td>4</td>\n",
       "      <td>1.811113</td>\n",
       "      <td>0.909917</td>\n",
       "      <td>1.335542</td>\n",
       "    </tr>\n",
       "  </tbody>\n",
       "</table>\n",
       "</div>"
      ],
      "text/plain": [
       "            shooter  goals  proportion  attempts  shooter_id  theta_high  \\\n",
       "0      Alberth Elis      1    1.000000         1           0    1.762119   \n",
       "1  Alejandro Bedoya      0    0.000000         1           1    1.684209   \n",
       "2  Alvaro Fernandez      1    0.500000         2           2    1.718528   \n",
       "3    Alvaro Saborio     13    0.866667        15           3    1.809901   \n",
       "4       Andre Akpan      1    1.000000         1           4    1.811113   \n",
       "\n",
       "   theta_low  theta_mean  \n",
       "0   0.917951    1.320619  \n",
       "1   0.824510    1.273567  \n",
       "2   0.814800    1.277663  \n",
       "3   1.023062    1.366652  \n",
       "4   0.909917    1.335542  "
      ]
     },
     "execution_count": 19,
     "metadata": {},
     "output_type": "execute_result"
    }
   ],
   "source": [
    "theta_df = to_param_df(shooters, irt_trace, ['theta'], 'shooter_id')\n",
    "theta_df.head()"
   ]
  },
  {
   "cell_type": "markdown",
   "metadata": {},
   "source": [
    "Here are those intervals for the ten best and ten worst penalty shooters as determined by the model:"
   ]
  },
  {
   "cell_type": "code",
   "execution_count": 21,
   "metadata": {
    "collapsed": true
   },
   "outputs": [],
   "source": [
    "top_ten = theta_df.sort_values('theta_mean', ascending=False)[0:10]\n",
    "bottom_ten = theta_df.sort_values('theta_mean', ascending=False)[-10:]\n",
    "to_plot = pd.concat([top_ten, bottom_ten], axis=0).iloc[::-1]"
   ]
  },
  {
   "cell_type": "code",
   "execution_count": 22,
   "metadata": {},
   "outputs": [
    {
     "data": {
      "image/png": "[encoded data removed]",
      "text/plain": [
       "<matplotlib.figure.Figure at 0x7f8fa22b9668>"
      ]
     },
     "metadata": {},
     "output_type": "display_data"
    }
   ],
   "source": [
    "fig, ax = plt.subplots(figsize=(10, 8))\n",
    "\n",
    "ax.errorbar(to_plot.theta_mean.values,\n",
    "            np.arange(20),\n",
    "            xerr=np.row_stack([[to_plot.theta_mean.values - to_plot.theta_low.values, to_plot.theta_high.values - to_plot.theta_mean.values]]),\n",
    "            fmt='o')\n",
    "ax.set_ylim(-1, 20)\n",
    "ax.set_yticks(np.arange(20))\n",
    "ax.set_yticklabels(to_plot.shooter);"
   ]
  },
  {
   "cell_type": "markdown",
   "metadata": {},
   "source": [
    "So Benny Feilhaber is pretty good. Giles Barnes, maybe not so much. The main thing to note, though, is that, even among the, as far as we can tell, ten best and ten worst penalty takers, there's a ton of overlap between our estimate of their abilities. Based on the data we have available, there's just not much discernible difference between the best and the worst."
   ]
  },
  {
   "cell_type": "markdown",
   "metadata": {},
   "source": [
    "It's tangential to the point I want to make, but let's look at the ten best and ten worst goalies at saving penalty kicks."
   ]
  },
  {
   "cell_type": "code",
   "execution_count": 20,
   "metadata": {},
   "outputs": [
    {
     "data": {
      "text/html": [
       "<div>\n",
       "<table border=\"1\" class=\"dataframe\">\n",
       "  <thead>\n",
       "    <tr style=\"text-align: right;\">\n",
       "      <th></th>\n",
       "      <th>keeper</th>\n",
       "      <th>goals</th>\n",
       "      <th>proportion</th>\n",
       "      <th>attempts</th>\n",
       "      <th>keeper_id</th>\n",
       "      <th>b_high</th>\n",
       "      <th>b_low</th>\n",
       "      <th>b_mean</th>\n",
       "    </tr>\n",
       "  </thead>\n",
       "  <tbody>\n",
       "    <tr>\n",
       "      <th>0</th>\n",
       "      <td>Adam Larsen Kwarasey</td>\n",
       "      <td>5</td>\n",
       "      <td>1.000000</td>\n",
       "      <td>5</td>\n",
       "      <td>0</td>\n",
       "      <td>0.426604</td>\n",
       "      <td>-0.818693</td>\n",
       "      <td>-0.149351</td>\n",
       "    </tr>\n",
       "    <tr>\n",
       "      <th>1</th>\n",
       "      <td>Alec Kann</td>\n",
       "      <td>5</td>\n",
       "      <td>1.000000</td>\n",
       "      <td>5</td>\n",
       "      <td>1</td>\n",
       "      <td>0.457070</td>\n",
       "      <td>-0.797095</td>\n",
       "      <td>-0.138976</td>\n",
       "    </tr>\n",
       "    <tr>\n",
       "      <th>2</th>\n",
       "      <td>Alex Bono</td>\n",
       "      <td>1</td>\n",
       "      <td>1.000000</td>\n",
       "      <td>1</td>\n",
       "      <td>2</td>\n",
       "      <td>0.601764</td>\n",
       "      <td>-0.684857</td>\n",
       "      <td>-0.038674</td>\n",
       "    </tr>\n",
       "    <tr>\n",
       "      <th>3</th>\n",
       "      <td>Alexander Bono</td>\n",
       "      <td>3</td>\n",
       "      <td>0.600000</td>\n",
       "      <td>5</td>\n",
       "      <td>3</td>\n",
       "      <td>0.804830</td>\n",
       "      <td>-0.459913</td>\n",
       "      <td>0.115828</td>\n",
       "    </tr>\n",
       "    <tr>\n",
       "      <th>4</th>\n",
       "      <td>Andre Blake</td>\n",
       "      <td>5</td>\n",
       "      <td>0.714286</td>\n",
       "      <td>7</td>\n",
       "      <td>4</td>\n",
       "      <td>0.734117</td>\n",
       "      <td>-0.553345</td>\n",
       "      <td>0.064716</td>\n",
       "    </tr>\n",
       "  </tbody>\n",
       "</table>\n",
       "</div>"
      ],
      "text/plain": [
       "                 keeper  goals  proportion  attempts  keeper_id    b_high  \\\n",
       "0  Adam Larsen Kwarasey      5    1.000000         5          0  0.426604   \n",
       "1             Alec Kann      5    1.000000         5          1  0.457070   \n",
       "2             Alex Bono      1    1.000000         1          2  0.601764   \n",
       "3        Alexander Bono      3    0.600000         5          3  0.804830   \n",
       "4           Andre Blake      5    0.714286         7          4  0.734117   \n",
       "\n",
       "      b_low    b_mean  \n",
       "0 -0.818693 -0.149351  \n",
       "1 -0.797095 -0.138976  \n",
       "2 -0.684857 -0.038674  \n",
       "3 -0.459913  0.115828  \n",
       "4 -0.553345  0.064716  "
      ]
     },
     "execution_count": 20,
     "metadata": {},
     "output_type": "execute_result"
    }
   ],
   "source": [
    "b_df = to_param_df(keepers, irt_trace, ['b'], 'keeper_id')\n",
    "b_df.head()"
   ]
  },
  {
   "cell_type": "code",
   "execution_count": 24,
   "metadata": {
    "collapsed": true
   },
   "outputs": [],
   "source": [
    "top_ten = b_df.sort_values('b_mean', ascending=False)[0:10]\n",
    "bottom_ten = b_df.sort_values('b_mean', ascending=False)[-10:]\n",
    "to_plot = pd.concat([top_ten, bottom_ten], axis=0).iloc[::-1]"
   ]
  },
  {
   "cell_type": "markdown",
   "metadata": {},
   "source": [
    "Here are the credible intervals for those keepers:"
   ]
  },
  {
   "cell_type": "code",
   "execution_count": 25,
   "metadata": {},
   "outputs": [
    {
     "data": {
      "image/png": "[encoded data removed]",
      "text/plain": [
       "<matplotlib.figure.Figure at 0x7f8f8c9b2128>"
      ]
     },
     "metadata": {},
     "output_type": "display_data"
    }
   ],
   "source": [
    "fig, ax = plt.subplots(figsize=(10, 8))\n",
    "\n",
    "ax.errorbar(to_plot.b_mean.values,\n",
    "            np.arange(20),\n",
    "            xerr=np.row_stack([[to_plot.b_mean.values - to_plot.b_low.values, to_plot.b_high.values - to_plot.b_mean.values]]),\n",
    "            fmt='o')\n",
    "ax.set_ylim(-1, 20)\n",
    "ax.set_yticks(np.arange(20))\n",
    "ax.set_yticklabels(to_plot.keeper);"
   ]
  },
  {
   "cell_type": "markdown",
   "metadata": {},
   "source": [
    "There's a bit more spread among keepers, where we have more data per keeper. Nick Rimando is clearly very good. Donovan Ricketts is more likely bad. Jake Gleeson isn't great either. The Timbers sure know how to pick 'em. Given his recent playoff heroics it's affirming to see Zach Steffen pop up highly without that playoff data included.\n",
    "\n",
    "To conclude, and summarize my main point again, because of small sample sizes it's very difficult to determine between good and poor penalty shooters only using the data that’s available from games. This is quite a lot of math to make a fairly intuitive point, but I already had half an article written with the math, and I’m going to come back to the method at a later date."
   ]
  },
  {
   "cell_type": "code",
   "execution_count": null,
   "metadata": {
    "collapsed": true
   },
   "outputs": [],
   "source": []
  }
 ],
 "metadata": {
  "kernelspec": {
   "display_name": "Python 3",
   "language": "python",
   "name": "python3"
  },
  "language_info": {
   "codemirror_mode": {
    "name": "ipython",
    "version": 3
   },
   "file_extension": ".py",
   "mimetype": "text/x-python",
   "name": "python",
   "nbconvert_exporter": "python",
   "pygments_lexer": "ipython3",
   "version": "3.6.0"
  }
 },
 "nbformat": 4,
 "nbformat_minor": 2
}
