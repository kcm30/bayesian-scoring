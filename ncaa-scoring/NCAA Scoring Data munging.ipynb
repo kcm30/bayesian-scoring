{
 "cells": [
  {
   "cell_type": "code",
   "execution_count": 14,
   "metadata": {},
   "outputs": [],
   "source": [
    "import pandas as pd\n",
    "import numpy as np\n",
    "import matplotlib.pyplot as plt\n",
    "import seaborn as sns\n",
    "from ggplot import *"
   ]
  },
  {
   "cell_type": "markdown",
   "metadata": {},
   "source": [
    "Go through and put some plots in - and yes, add on Goalkeepers as best I can\n",
    "\n",
    "Use Christopher Long's pbp box score data from here - https://github.com/octonion/soccer-m/tree/master/ncaa/csv"
   ]
  },
  {
   "cell_type": "markdown",
   "metadata": {},
   "source": [
    "Read in the data, which is tab delimited here (pull from Christopher's repo correctly before I publish everything)"
   ]
  },
  {
   "cell_type": "code",
   "execution_count": 5,
   "metadata": {},
   "outputs": [],
   "source": [
    "df = pd.read_table(\"~/Desktop/ncaa_pbp\", index_col=False)"
   ]
  },
  {
   "cell_type": "code",
   "execution_count": 6,
   "metadata": {},
   "outputs": [
    {
     "data": {
      "text/html": [
       "<div>\n",
       "<table border=\"1\" class=\"dataframe\">\n",
       "  <thead>\n",
       "    <tr style=\"text-align: right;\">\n",
       "      <th></th>\n",
       "      <th>game_id</th>\n",
       "      <th>section_id</th>\n",
       "      <th>player_id</th>\n",
       "      <th>player_name</th>\n",
       "      <th>player_url</th>\n",
       "      <th>position</th>\n",
       "      <th>goals</th>\n",
       "      <th>assists</th>\n",
       "      <th>sh_att</th>\n",
       "      <th>sog</th>\n",
       "      <th>...</th>\n",
       "      <th>goal_app</th>\n",
       "      <th>ggs</th>\n",
       "      <th>goalie_min_plyd</th>\n",
       "      <th>ga</th>\n",
       "      <th>saves</th>\n",
       "      <th>shutouts</th>\n",
       "      <th>g_wins</th>\n",
       "      <th>g_loss</th>\n",
       "      <th>dsaves</th>\n",
       "      <th>corners</th>\n",
       "    </tr>\n",
       "  </thead>\n",
       "  <tbody>\n",
       "    <tr>\n",
       "      <th>0</th>\n",
       "      <td>4378055</td>\n",
       "      <td>0</td>\n",
       "      <td>1912569.0</td>\n",
       "      <td>Bien-Aime, JB</td>\n",
       "      <td>http://stats.ncaa.org/player/index?game_sport_...</td>\n",
       "      <td>D</td>\n",
       "      <td>0</td>\n",
       "      <td>0</td>\n",
       "      <td>0</td>\n",
       "      <td>0</td>\n",
       "      <td>...</td>\n",
       "      <td>0</td>\n",
       "      <td>0</td>\n",
       "      <td>0</td>\n",
       "      <td>0</td>\n",
       "      <td>0</td>\n",
       "      <td>0</td>\n",
       "      <td>0</td>\n",
       "      <td>0</td>\n",
       "      <td>0</td>\n",
       "      <td>0</td>\n",
       "    </tr>\n",
       "    <tr>\n",
       "      <th>1</th>\n",
       "      <td>4378055</td>\n",
       "      <td>0</td>\n",
       "      <td>1807767.0</td>\n",
       "      <td>Caro, Carlos</td>\n",
       "      <td>http://stats.ncaa.org/player/index?game_sport_...</td>\n",
       "      <td>GK</td>\n",
       "      <td>0</td>\n",
       "      <td>0</td>\n",
       "      <td>0</td>\n",
       "      <td>0</td>\n",
       "      <td>...</td>\n",
       "      <td>1</td>\n",
       "      <td>1</td>\n",
       "      <td>90</td>\n",
       "      <td>1</td>\n",
       "      <td>5</td>\n",
       "      <td>0</td>\n",
       "      <td>0</td>\n",
       "      <td>1</td>\n",
       "      <td>0</td>\n",
       "      <td>0</td>\n",
       "    </tr>\n",
       "    <tr>\n",
       "      <th>2</th>\n",
       "      <td>4378055</td>\n",
       "      <td>0</td>\n",
       "      <td>1598828.0</td>\n",
       "      <td>Celestine, Kyle</td>\n",
       "      <td>http://stats.ncaa.org/player/index?game_sport_...</td>\n",
       "      <td>F</td>\n",
       "      <td>0</td>\n",
       "      <td>0</td>\n",
       "      <td>0</td>\n",
       "      <td>0</td>\n",
       "      <td>...</td>\n",
       "      <td>0</td>\n",
       "      <td>0</td>\n",
       "      <td>0</td>\n",
       "      <td>0</td>\n",
       "      <td>0</td>\n",
       "      <td>0</td>\n",
       "      <td>0</td>\n",
       "      <td>0</td>\n",
       "      <td>0</td>\n",
       "      <td>0</td>\n",
       "    </tr>\n",
       "    <tr>\n",
       "      <th>3</th>\n",
       "      <td>4378055</td>\n",
       "      <td>0</td>\n",
       "      <td>1703207.0</td>\n",
       "      <td>Cunningham, Joel</td>\n",
       "      <td>http://stats.ncaa.org/player/index?game_sport_...</td>\n",
       "      <td>D</td>\n",
       "      <td>0</td>\n",
       "      <td>0</td>\n",
       "      <td>0</td>\n",
       "      <td>0</td>\n",
       "      <td>...</td>\n",
       "      <td>0</td>\n",
       "      <td>0</td>\n",
       "      <td>0</td>\n",
       "      <td>0</td>\n",
       "      <td>0</td>\n",
       "      <td>0</td>\n",
       "      <td>0</td>\n",
       "      <td>0</td>\n",
       "      <td>0</td>\n",
       "      <td>0</td>\n",
       "    </tr>\n",
       "    <tr>\n",
       "      <th>4</th>\n",
       "      <td>4378055</td>\n",
       "      <td>0</td>\n",
       "      <td>1807768.0</td>\n",
       "      <td>Garwood, Javauni</td>\n",
       "      <td>http://stats.ncaa.org/player/index?game_sport_...</td>\n",
       "      <td>M</td>\n",
       "      <td>0</td>\n",
       "      <td>0</td>\n",
       "      <td>1</td>\n",
       "      <td>1</td>\n",
       "      <td>...</td>\n",
       "      <td>0</td>\n",
       "      <td>0</td>\n",
       "      <td>0</td>\n",
       "      <td>0</td>\n",
       "      <td>0</td>\n",
       "      <td>0</td>\n",
       "      <td>0</td>\n",
       "      <td>0</td>\n",
       "      <td>0</td>\n",
       "      <td>0</td>\n",
       "    </tr>\n",
       "  </tbody>\n",
       "</table>\n",
       "<p>5 rows × 24 columns</p>\n",
       "</div>"
      ],
      "text/plain": [
       "   game_id  section_id  player_id       player_name  \\\n",
       "0  4378055           0  1912569.0     Bien-Aime, JB   \n",
       "1  4378055           0  1807767.0      Caro, Carlos   \n",
       "2  4378055           0  1598828.0   Celestine, Kyle   \n",
       "3  4378055           0  1703207.0  Cunningham, Joel   \n",
       "4  4378055           0  1807768.0  Garwood, Javauni   \n",
       "\n",
       "                                          player_url position  goals  assists  \\\n",
       "0  http://stats.ncaa.org/player/index?game_sport_...        D      0        0   \n",
       "1  http://stats.ncaa.org/player/index?game_sport_...       GK      0        0   \n",
       "2  http://stats.ncaa.org/player/index?game_sport_...        F      0        0   \n",
       "3  http://stats.ncaa.org/player/index?game_sport_...        D      0        0   \n",
       "4  http://stats.ncaa.org/player/index?game_sport_...        M      0        0   \n",
       "\n",
       "   sh_att  sog   ...     goal_app  ggs  goalie_min_plyd  ga  saves  shutouts  \\\n",
       "0       0    0   ...            0    0                0   0      0         0   \n",
       "1       0    0   ...            1    1               90   1      5         0   \n",
       "2       0    0   ...            0    0                0   0      0         0   \n",
       "3       0    0   ...            0    0                0   0      0         0   \n",
       "4       1    1   ...            0    0                0   0      0         0   \n",
       "\n",
       "   g_wins  g_loss  dsaves  corners  \n",
       "0       0       0       0        0  \n",
       "1       0       1       0        0  \n",
       "2       0       0       0        0  \n",
       "3       0       0       0        0  \n",
       "4       0       0       0        0  \n",
       "\n",
       "[5 rows x 24 columns]"
      ]
     },
     "execution_count": 6,
     "metadata": {},
     "output_type": "execute_result"
    }
   ],
   "source": [
    "df.head()"
   ]
  },
  {
   "cell_type": "code",
   "execution_count": 7,
   "metadata": {},
   "outputs": [
    {
     "data": {
      "text/plain": [
       "Index(['game_id', 'section_id', 'player_id', 'player_name', 'player_url',\n",
       "       'position', 'goals', 'assists', 'sh_att', 'sog', 'fouls', 'red_cards',\n",
       "       'yellow_cards', 'gc', 'goal_app', 'ggs', 'goalie_min_plyd', 'ga',\n",
       "       'saves', 'shutouts', 'g_wins', 'g_loss', 'dsaves', 'corners'],\n",
       "      dtype='object')"
      ]
     },
     "execution_count": 7,
     "metadata": {},
     "output_type": "execute_result"
    }
   ],
   "source": [
    "df.columns"
   ]
  },
  {
   "cell_type": "markdown",
   "metadata": {},
   "source": [
    "Here are the players who have taken the most shots this season:"
   ]
  },
  {
   "cell_type": "code",
   "execution_count": 17,
   "metadata": {},
   "outputs": [
    {
     "data": {
      "text/plain": [
       "player_name\n",
       "Totals               42900\n",
       "Roberts, Kieran         90\n",
       "Roldan, Alex            90\n",
       "Guirassy, Mamadou       89\n",
       "Gallagher, Jon          78\n",
       "Steeves, Mac            77\n",
       "Bye, Brandon            77\n",
       "Donnelly, JJ            70\n",
       "McGrath, Ian            68\n",
       "Forrest, Mark           66\n",
       "Name: sh_att, dtype: int64"
      ]
     },
     "execution_count": 17,
     "metadata": {},
     "output_type": "execute_result"
    }
   ],
   "source": [
    "df.groupby('player_name').sh_att.sum().sort_values(ascending=False)[0:10]"
   ]
  },
  {
   "cell_type": "markdown",
   "metadata": {},
   "source": [
    "90 shots at most is not much. It'd be nice to see if player_id's are consistent across seasons, but, on the other hand, players probably get better from their freshman year to their senior year, so we'd need some weighting scheme to combine shots across all years together. That'd also be _a lot_ of parameters to fit.\n",
    "\n",
    "Here's the distribution of shot attempts:"
   ]
  },
  {
   "cell_type": "code",
   "execution_count": 25,
   "metadata": {},
   "outputs": [
    {
     "data": {
      "image/png": "[encoded data removed]",
      "text/plain": [
       "<matplotlib.figure.Figure at 0x7f4c35571be0>"
      ]
     },
     "metadata": {},
     "output_type": "display_data"
    },
    {
     "data": {
      "text/plain": [
       "<ggplot: (-9223363289026499019)>"
      ]
     },
     "execution_count": 25,
     "metadata": {},
     "output_type": "execute_result"
    }
   ],
   "source": [
    "attempts = df.groupby('player_name').sh_att.sum().drop(\"Totals\").to_frame()\n",
    "g = ggplot(attempts, aes(x=\"sh_att\")) + geom_histogram(fill='navy', lwd=3) + xlab(\"Shot Attempts\")\n",
    "g + ggtitle(\"Distribution of Shot Attempts by Player\")"
   ]
  },
  {
   "cell_type": "code",
   "execution_count": 26,
   "metadata": {},
   "outputs": [
    {
     "data": {
      "text/plain": [
       "(142, 1)"
      ]
     },
     "execution_count": 26,
     "metadata": {},
     "output_type": "execute_result"
    }
   ],
   "source": [
    "attempts[attempts['sh_att'] > 40].shape"
   ]
  },
  {
   "cell_type": "markdown",
   "metadata": {},
   "source": [
    "So there's really not much data for most players, but that's okay. We're only interested in those at the top."
   ]
  },
  {
   "cell_type": "markdown",
   "metadata": {},
   "source": [
    "Let's look at shooting percentages for the shooters who have taken the most shots:"
   ]
  },
  {
   "cell_type": "code",
   "execution_count": 10,
   "metadata": {
    "collapsed": true
   },
   "outputs": [],
   "source": [
    "sht_perc = df.groupby('player_name')[['sh_att', 'goals', '']].sum().reset_index()"
   ]
  },
  {
   "cell_type": "code",
   "execution_count": 11,
   "metadata": {},
   "outputs": [],
   "source": [
    "sht_perc['percentage'] = sht_perc.goals / sht_perc.sh_att"
   ]
  },
  {
   "cell_type": "code",
   "execution_count": 12,
   "metadata": {},
   "outputs": [
    {
     "data": {
      "text/html": [
       "<div>\n",
       "<table border=\"1\" class=\"dataframe\">\n",
       "  <thead>\n",
       "    <tr style=\"text-align: right;\">\n",
       "      <th></th>\n",
       "      <th>player_name</th>\n",
       "      <th>sh_att</th>\n",
       "      <th>goals</th>\n",
       "      <th>percentage</th>\n",
       "    </tr>\n",
       "  </thead>\n",
       "  <tbody>\n",
       "    <tr>\n",
       "      <th>4589</th>\n",
       "      <td>Totals</td>\n",
       "      <td>42900</td>\n",
       "      <td>4870</td>\n",
       "      <td>0.113520</td>\n",
       "    </tr>\n",
       "    <tr>\n",
       "      <th>3884</th>\n",
       "      <td>Roberts, Kieran</td>\n",
       "      <td>90</td>\n",
       "      <td>15</td>\n",
       "      <td>0.166667</td>\n",
       "    </tr>\n",
       "    <tr>\n",
       "      <th>3932</th>\n",
       "      <td>Roldan, Alex</td>\n",
       "      <td>90</td>\n",
       "      <td>5</td>\n",
       "      <td>0.055556</td>\n",
       "    </tr>\n",
       "    <tr>\n",
       "      <th>1808</th>\n",
       "      <td>Guirassy, Mamadou</td>\n",
       "      <td>89</td>\n",
       "      <td>16</td>\n",
       "      <td>0.179775</td>\n",
       "    </tr>\n",
       "    <tr>\n",
       "      <th>1574</th>\n",
       "      <td>Gallagher, Jon</td>\n",
       "      <td>78</td>\n",
       "      <td>12</td>\n",
       "      <td>0.153846</td>\n",
       "    </tr>\n",
       "    <tr>\n",
       "      <th>4375</th>\n",
       "      <td>Steeves, Mac</td>\n",
       "      <td>77</td>\n",
       "      <td>8</td>\n",
       "      <td>0.103896</td>\n",
       "    </tr>\n",
       "    <tr>\n",
       "      <th>687</th>\n",
       "      <td>Bye, Brandon</td>\n",
       "      <td>77</td>\n",
       "      <td>12</td>\n",
       "      <td>0.155844</td>\n",
       "    </tr>\n",
       "    <tr>\n",
       "      <th>1240</th>\n",
       "      <td>Donnelly, JJ</td>\n",
       "      <td>70</td>\n",
       "      <td>13</td>\n",
       "      <td>0.185714</td>\n",
       "    </tr>\n",
       "    <tr>\n",
       "      <th>2892</th>\n",
       "      <td>McGrath, Ian</td>\n",
       "      <td>68</td>\n",
       "      <td>11</td>\n",
       "      <td>0.161765</td>\n",
       "    </tr>\n",
       "    <tr>\n",
       "      <th>1512</th>\n",
       "      <td>Forrest, Mark</td>\n",
       "      <td>66</td>\n",
       "      <td>15</td>\n",
       "      <td>0.227273</td>\n",
       "    </tr>\n",
       "  </tbody>\n",
       "</table>\n",
       "</div>"
      ],
      "text/plain": [
       "            player_name  sh_att  goals  percentage\n",
       "4589             Totals   42900   4870    0.113520\n",
       "3884    Roberts, Kieran      90     15    0.166667\n",
       "3932       Roldan, Alex      90      5    0.055556\n",
       "1808  Guirassy, Mamadou      89     16    0.179775\n",
       "1574     Gallagher, Jon      78     12    0.153846\n",
       "4375       Steeves, Mac      77      8    0.103896\n",
       "687        Bye, Brandon      77     12    0.155844\n",
       "1240       Donnelly, JJ      70     13    0.185714\n",
       "2892       McGrath, Ian      68     11    0.161765\n",
       "1512      Forrest, Mark      66     15    0.227273"
      ]
     },
     "execution_count": 12,
     "metadata": {},
     "output_type": "execute_result"
    }
   ],
   "source": [
    "sht_perc.sort_values('sh_att', ascending=False)[0:10]"
   ]
  },
  {
   "cell_type": "code",
   "execution_count": 108,
   "metadata": {},
   "outputs": [
    {
     "data": {
      "text/html": [
       "<div>\n",
       "<table border=\"1\" class=\"dataframe\">\n",
       "  <thead>\n",
       "    <tr style=\"text-align: right;\">\n",
       "      <th></th>\n",
       "      <th>player_name</th>\n",
       "      <th>sh_att</th>\n",
       "      <th>goals</th>\n",
       "      <th>percentage</th>\n",
       "    </tr>\n",
       "  </thead>\n",
       "  <tbody>\n",
       "    <tr>\n",
       "      <th>3752</th>\n",
       "      <td>Ramos, Ozzie</td>\n",
       "      <td>35</td>\n",
       "      <td>0</td>\n",
       "      <td>0.000000</td>\n",
       "    </tr>\n",
       "    <tr>\n",
       "      <th>818</th>\n",
       "      <td>Cei, Ezequiel</td>\n",
       "      <td>37</td>\n",
       "      <td>0</td>\n",
       "      <td>0.000000</td>\n",
       "    </tr>\n",
       "    <tr>\n",
       "      <th>766</th>\n",
       "      <td>Carreras, Marc</td>\n",
       "      <td>32</td>\n",
       "      <td>0</td>\n",
       "      <td>0.000000</td>\n",
       "    </tr>\n",
       "    <tr>\n",
       "      <th>2959</th>\n",
       "      <td>Mendoza, Luis</td>\n",
       "      <td>44</td>\n",
       "      <td>0</td>\n",
       "      <td>0.000000</td>\n",
       "    </tr>\n",
       "    <tr>\n",
       "      <th>3694</th>\n",
       "      <td>Prpa, Luka</td>\n",
       "      <td>38</td>\n",
       "      <td>1</td>\n",
       "      <td>0.026316</td>\n",
       "    </tr>\n",
       "    <tr>\n",
       "      <th>396</th>\n",
       "      <td>Benamna, Donald</td>\n",
       "      <td>37</td>\n",
       "      <td>1</td>\n",
       "      <td>0.027027</td>\n",
       "    </tr>\n",
       "    <tr>\n",
       "      <th>545</th>\n",
       "      <td>Bourret, Clement</td>\n",
       "      <td>36</td>\n",
       "      <td>1</td>\n",
       "      <td>0.027778</td>\n",
       "    </tr>\n",
       "    <tr>\n",
       "      <th>4475</th>\n",
       "      <td>Szklennik, Evan</td>\n",
       "      <td>35</td>\n",
       "      <td>1</td>\n",
       "      <td>0.028571</td>\n",
       "    </tr>\n",
       "    <tr>\n",
       "      <th>3492</th>\n",
       "      <td>Parada, Juan</td>\n",
       "      <td>34</td>\n",
       "      <td>1</td>\n",
       "      <td>0.029412</td>\n",
       "    </tr>\n",
       "    <tr>\n",
       "      <th>2564</th>\n",
       "      <td>Leonard, Eric</td>\n",
       "      <td>34</td>\n",
       "      <td>1</td>\n",
       "      <td>0.029412</td>\n",
       "    </tr>\n",
       "  </tbody>\n",
       "</table>\n",
       "</div>"
      ],
      "text/plain": [
       "           player_name  sh_att  goals  percentage\n",
       "3752      Ramos, Ozzie      35      0    0.000000\n",
       "818      Cei, Ezequiel      37      0    0.000000\n",
       "766     Carreras, Marc      32      0    0.000000\n",
       "2959     Mendoza, Luis      44      0    0.000000\n",
       "3694        Prpa, Luka      38      1    0.026316\n",
       "396    Benamna, Donald      37      1    0.027027\n",
       "545   Bourret, Clement      36      1    0.027778\n",
       "4475   Szklennik, Evan      35      1    0.028571\n",
       "3492      Parada, Juan      34      1    0.029412\n",
       "2564     Leonard, Eric      34      1    0.029412"
      ]
     },
     "execution_count": 108,
     "metadata": {},
     "output_type": "execute_result"
    }
   ],
   "source": [
    "sht_perc[sht_perc['sh_att'] > 30].sort_values('percentage')[0:10]"
   ]
  },
  {
   "cell_type": "markdown",
   "metadata": {},
   "source": [
    "Let's look at shooting percentage by shot attemps"
   ]
  },
  {
   "cell_type": "code",
   "execution_count": 29,
   "metadata": {},
   "outputs": [
    {
     "data": {
      "image/png": "[encoded data removed]",
      "text/plain": [
       "<matplotlib.figure.Figure at 0x7f4c35301278>"
      ]
     },
     "metadata": {},
     "output_type": "display_data"
    },
    {
     "data": {
      "text/plain": [
       "<ggplot: (8747828281927)>"
      ]
     },
     "execution_count": 29,
     "metadata": {},
     "output_type": "execute_result"
    }
   ],
   "source": [
    "data = sht_perc[sht_perc.player_name != 'Totals']\n",
    "g = ggplot(data, aes(x='sh_att', y='percentage')) + geom_point()\n",
    "g"
   ]
  },
  {
   "cell_type": "markdown",
   "metadata": {},
   "source": [
    "What's the overall shooting percentage?"
   ]
  },
  {
   "cell_type": "code",
   "execution_count": 46,
   "metadata": {},
   "outputs": [
    {
     "data": {
      "text/plain": [
       "0.11355687170638437"
      ]
     },
     "execution_count": 46,
     "metadata": {},
     "output_type": "execute_result"
    }
   ],
   "source": [
    "sum(data.goals) / sum(data.sh_att)"
   ]
  },
  {
   "cell_type": "markdown",
   "metadata": {},
   "source": [
    "So it's slightly above the MLS average"
   ]
  },
  {
   "cell_type": "markdown",
   "metadata": {},
   "source": [
    "Here's the distribution of shooting percentages."
   ]
  },
  {
   "cell_type": "code",
   "execution_count": 43,
   "metadata": {},
   "outputs": [
    {
     "data": {
      "image/png": "[encoded data removed]",
      "text/plain": [
       "<matplotlib.figure.Figure at 0x7f4c34e33470>"
      ]
     },
     "metadata": {},
     "output_type": "display_data"
    },
    {
     "data": {
      "text/plain": [
       "<ggplot: (-9223363289024658919)>"
      ]
     },
     "execution_count": 43,
     "metadata": {},
     "output_type": "execute_result"
    }
   ],
   "source": [
    "pared = data[data['sh_att'] > 0]\n",
    "g = ggplot(pared, aes(x='percentage')) + geom_histogram()\n",
    "g"
   ]
  },
  {
   "cell_type": "markdown",
   "metadata": {},
   "source": [
    "Neat stuff. Now let's find somewhere we can tack on teams to this, both for and opposition"
   ]
  },
  {
   "cell_type": "code",
   "execution_count": 48,
   "metadata": {},
   "outputs": [],
   "source": [
    "#rosters = pd.read_table(\"/home/kcm30/Documents/PracticeR/Whoscored Scraping/2017/jnb/ncaa_rosters.txt\")\n",
    "rosters = pd.read_table(\"https://raw.githubusercontent.com/octonion/soccer-m/master/ncaa_pbp/csv/ncaa_team_rosters_2018_1.csv\")"
   ]
  },
  {
   "cell_type": "code",
   "execution_count": 49,
   "metadata": {},
   "outputs": [
    {
     "data": {
      "text/html": [
       "<div>\n",
       "<table border=\"1\" class=\"dataframe\">\n",
       "  <thead>\n",
       "    <tr style=\"text-align: right;\">\n",
       "      <th></th>\n",
       "      <th>year</th>\n",
       "      <th>year_id</th>\n",
       "      <th>division_id</th>\n",
       "      <th>team_id</th>\n",
       "      <th>team_name</th>\n",
       "      <th>jersey_number</th>\n",
       "      <th>player_id</th>\n",
       "      <th>player_name</th>\n",
       "      <th>player_url</th>\n",
       "      <th>class_year</th>\n",
       "      <th>games_played</th>\n",
       "      <th>games_started</th>\n",
       "    </tr>\n",
       "  </thead>\n",
       "  <tbody>\n",
       "    <tr>\n",
       "      <th>0</th>\n",
       "      <td>2018</td>\n",
       "      <td>12621</td>\n",
       "      <td>1</td>\n",
       "      <td>721</td>\n",
       "      <td>Air Force</td>\n",
       "      <td>12</td>\n",
       "      <td>1800743.0</td>\n",
       "      <td>Abousaud, Munear</td>\n",
       "      <td>http://stats.ncaa.org/player/index?game_sport_...</td>\n",
       "      <td>So</td>\n",
       "      <td>9</td>\n",
       "      <td>0</td>\n",
       "    </tr>\n",
       "    <tr>\n",
       "      <th>1</th>\n",
       "      <td>2018</td>\n",
       "      <td>12621</td>\n",
       "      <td>1</td>\n",
       "      <td>721</td>\n",
       "      <td>Air Force</td>\n",
       "      <td>17</td>\n",
       "      <td>1956389.0</td>\n",
       "      <td>Angeletti, Jacob</td>\n",
       "      <td>http://stats.ncaa.org/player/index?game_sport_...</td>\n",
       "      <td>Sr</td>\n",
       "      <td>5</td>\n",
       "      <td>1</td>\n",
       "    </tr>\n",
       "    <tr>\n",
       "      <th>2</th>\n",
       "      <td>2018</td>\n",
       "      <td>12621</td>\n",
       "      <td>1</td>\n",
       "      <td>721</td>\n",
       "      <td>Air Force</td>\n",
       "      <td>99</td>\n",
       "      <td>1800746.0</td>\n",
       "      <td>Blessing, Ben</td>\n",
       "      <td>http://stats.ncaa.org/player/index?game_sport_...</td>\n",
       "      <td>So</td>\n",
       "      <td>0</td>\n",
       "      <td>0</td>\n",
       "    </tr>\n",
       "    <tr>\n",
       "      <th>3</th>\n",
       "      <td>2018</td>\n",
       "      <td>12621</td>\n",
       "      <td>1</td>\n",
       "      <td>721</td>\n",
       "      <td>Air Force</td>\n",
       "      <td>21</td>\n",
       "      <td>1800744.0</td>\n",
       "      <td>Blessing, Nick</td>\n",
       "      <td>http://stats.ncaa.org/player/index?game_sport_...</td>\n",
       "      <td>So</td>\n",
       "      <td>18</td>\n",
       "      <td>17</td>\n",
       "    </tr>\n",
       "    <tr>\n",
       "      <th>4</th>\n",
       "      <td>2018</td>\n",
       "      <td>12621</td>\n",
       "      <td>1</td>\n",
       "      <td>721</td>\n",
       "      <td>Air Force</td>\n",
       "      <td>7</td>\n",
       "      <td>1692917.0</td>\n",
       "      <td>Bone, Tucker</td>\n",
       "      <td>http://stats.ncaa.org/player/index?game_sport_...</td>\n",
       "      <td>Jr</td>\n",
       "      <td>18</td>\n",
       "      <td>18</td>\n",
       "    </tr>\n",
       "  </tbody>\n",
       "</table>\n",
       "</div>"
      ],
      "text/plain": [
       "   year  year_id  division_id  team_id  team_name  jersey_number  player_id  \\\n",
       "0  2018    12621            1      721  Air Force             12  1800743.0   \n",
       "1  2018    12621            1      721  Air Force             17  1956389.0   \n",
       "2  2018    12621            1      721  Air Force             99  1800746.0   \n",
       "3  2018    12621            1      721  Air Force             21  1800744.0   \n",
       "4  2018    12621            1      721  Air Force              7  1692917.0   \n",
       "\n",
       "        player_name                                         player_url  \\\n",
       "0  Abousaud, Munear  http://stats.ncaa.org/player/index?game_sport_...   \n",
       "1  Angeletti, Jacob  http://stats.ncaa.org/player/index?game_sport_...   \n",
       "2     Blessing, Ben  http://stats.ncaa.org/player/index?game_sport_...   \n",
       "3    Blessing, Nick  http://stats.ncaa.org/player/index?game_sport_...   \n",
       "4      Bone, Tucker  http://stats.ncaa.org/player/index?game_sport_...   \n",
       "\n",
       "  class_year  games_played  games_started  \n",
       "0         So             9              0  \n",
       "1         Sr             5              1  \n",
       "2         So             0              0  \n",
       "3         So            18             17  \n",
       "4         Jr            18             18  "
      ]
     },
     "execution_count": 49,
     "metadata": {},
     "output_type": "execute_result"
    }
   ],
   "source": [
    "rosters.head()"
   ]
  },
  {
   "cell_type": "code",
   "execution_count": 50,
   "metadata": {
    "collapsed": true
   },
   "outputs": [],
   "source": [
    "team_player = rosters[['player_id', 'player_name', 'team_id', 'team_name', 'class_year']]"
   ]
  },
  {
   "cell_type": "code",
   "execution_count": 51,
   "metadata": {},
   "outputs": [
    {
     "data": {
      "text/html": [
       "<div>\n",
       "<table border=\"1\" class=\"dataframe\">\n",
       "  <thead>\n",
       "    <tr style=\"text-align: right;\">\n",
       "      <th></th>\n",
       "      <th>player_id</th>\n",
       "      <th>player_name</th>\n",
       "      <th>team_id</th>\n",
       "      <th>team_name</th>\n",
       "      <th>class_year</th>\n",
       "    </tr>\n",
       "  </thead>\n",
       "  <tbody>\n",
       "    <tr>\n",
       "      <th>0</th>\n",
       "      <td>1800743.0</td>\n",
       "      <td>Abousaud, Munear</td>\n",
       "      <td>721</td>\n",
       "      <td>Air Force</td>\n",
       "      <td>So</td>\n",
       "    </tr>\n",
       "    <tr>\n",
       "      <th>1</th>\n",
       "      <td>1956389.0</td>\n",
       "      <td>Angeletti, Jacob</td>\n",
       "      <td>721</td>\n",
       "      <td>Air Force</td>\n",
       "      <td>Sr</td>\n",
       "    </tr>\n",
       "    <tr>\n",
       "      <th>2</th>\n",
       "      <td>1800746.0</td>\n",
       "      <td>Blessing, Ben</td>\n",
       "      <td>721</td>\n",
       "      <td>Air Force</td>\n",
       "      <td>So</td>\n",
       "    </tr>\n",
       "    <tr>\n",
       "      <th>3</th>\n",
       "      <td>1800744.0</td>\n",
       "      <td>Blessing, Nick</td>\n",
       "      <td>721</td>\n",
       "      <td>Air Force</td>\n",
       "      <td>So</td>\n",
       "    </tr>\n",
       "    <tr>\n",
       "      <th>4</th>\n",
       "      <td>1692917.0</td>\n",
       "      <td>Bone, Tucker</td>\n",
       "      <td>721</td>\n",
       "      <td>Air Force</td>\n",
       "      <td>Jr</td>\n",
       "    </tr>\n",
       "  </tbody>\n",
       "</table>\n",
       "</div>"
      ],
      "text/plain": [
       "   player_id       player_name  team_id  team_name class_year\n",
       "0  1800743.0  Abousaud, Munear      721  Air Force         So\n",
       "1  1956389.0  Angeletti, Jacob      721  Air Force         Sr\n",
       "2  1800746.0     Blessing, Ben      721  Air Force         So\n",
       "3  1800744.0    Blessing, Nick      721  Air Force         So\n",
       "4  1692917.0      Bone, Tucker      721  Air Force         Jr"
      ]
     },
     "execution_count": 51,
     "metadata": {},
     "output_type": "execute_result"
    }
   ],
   "source": [
    "team_player.head()"
   ]
  },
  {
   "cell_type": "code",
   "execution_count": 52,
   "metadata": {},
   "outputs": [
    {
     "data": {
      "text/html": [
       "<div>\n",
       "<table border=\"1\" class=\"dataframe\">\n",
       "  <thead>\n",
       "    <tr style=\"text-align: right;\">\n",
       "      <th></th>\n",
       "      <th>player_id</th>\n",
       "      <th>player_name</th>\n",
       "      <th>team_id</th>\n",
       "      <th>team_name</th>\n",
       "      <th>class_year</th>\n",
       "    </tr>\n",
       "  </thead>\n",
       "  <tbody>\n",
       "    <tr>\n",
       "      <th>4432</th>\n",
       "      <td>1793034.0</td>\n",
       "      <td>Cotroneo, Frank</td>\n",
       "      <td>639</td>\n",
       "      <td>Siena</td>\n",
       "      <td>So</td>\n",
       "    </tr>\n",
       "    <tr>\n",
       "      <th>5411</th>\n",
       "      <td>1793034.0</td>\n",
       "      <td>Cotroneo, Frank</td>\n",
       "      <td>739</td>\n",
       "      <td>Villanova</td>\n",
       "      <td>So</td>\n",
       "    </tr>\n",
       "  </tbody>\n",
       "</table>\n",
       "</div>"
      ],
      "text/plain": [
       "      player_id      player_name  team_id  team_name class_year\n",
       "4432  1793034.0  Cotroneo, Frank      639      Siena         So\n",
       "5411  1793034.0  Cotroneo, Frank      739  Villanova         So"
      ]
     },
     "execution_count": 52,
     "metadata": {},
     "output_type": "execute_result"
    }
   ],
   "source": [
    "team_player[team_player.player_name == 'Cotroneo, Frank']"
   ]
  },
  {
   "cell_type": "code",
   "execution_count": 53,
   "metadata": {},
   "outputs": [
    {
     "data": {
      "text/html": [
       "<div>\n",
       "<table border=\"1\" class=\"dataframe\">\n",
       "  <thead>\n",
       "    <tr style=\"text-align: right;\">\n",
       "      <th></th>\n",
       "      <th>player_id</th>\n",
       "      <th>player_name</th>\n",
       "      <th>team_id</th>\n",
       "      <th>team_name</th>\n",
       "      <th>class_year</th>\n",
       "    </tr>\n",
       "  </thead>\n",
       "  <tbody>\n",
       "    <tr>\n",
       "      <th>2379</th>\n",
       "      <td>1706658.0</td>\n",
       "      <td>Hestnes, Simen</td>\n",
       "      <td>361</td>\n",
       "      <td>LIU Brooklyn</td>\n",
       "      <td>Jr</td>\n",
       "    </tr>\n",
       "    <tr>\n",
       "      <th>5808</th>\n",
       "      <td>1706658.0</td>\n",
       "      <td>Hestnes, Simen</td>\n",
       "      <td>812</td>\n",
       "      <td>Xavier</td>\n",
       "      <td>Jr</td>\n",
       "    </tr>\n",
       "  </tbody>\n",
       "</table>\n",
       "</div>"
      ],
      "text/plain": [
       "      player_id     player_name  team_id     team_name class_year\n",
       "2379  1706658.0  Hestnes, Simen      361  LIU Brooklyn         Jr\n",
       "5808  1706658.0  Hestnes, Simen      812        Xavier         Jr"
      ]
     },
     "execution_count": 53,
     "metadata": {},
     "output_type": "execute_result"
    }
   ],
   "source": [
    "team_player[team_player.player_name == 'Hestnes, Simen']"
   ]
  },
  {
   "cell_type": "markdown",
   "metadata": {},
   "source": [
    "Okay so let's just remove those guys from the boxscores"
   ]
  },
  {
   "cell_type": "code",
   "execution_count": 54,
   "metadata": {
    "collapsed": true
   },
   "outputs": [],
   "source": [
    "df = df[np.isfinite(df.player_id)]\n",
    "df = df[df.player_name != 'Hestnes, Simen']\n",
    "df = df[df.player_name != 'Cotroneo, Frank']"
   ]
  },
  {
   "cell_type": "code",
   "execution_count": 55,
   "metadata": {},
   "outputs": [
    {
     "data": {
      "text/plain": [
       "(58127, 24)"
      ]
     },
     "execution_count": 55,
     "metadata": {},
     "output_type": "execute_result"
    }
   ],
   "source": [
    "df.shape"
   ]
  },
  {
   "cell_type": "code",
   "execution_count": 56,
   "metadata": {
    "collapsed": true
   },
   "outputs": [],
   "source": [
    "player_team_df = pd.merge(df, team_player, on=['player_id', 'player_name'], how='left')"
   ]
  },
  {
   "cell_type": "code",
   "execution_count": 57,
   "metadata": {},
   "outputs": [
    {
     "data": {
      "text/plain": [
       "(58127, 24)"
      ]
     },
     "execution_count": 57,
     "metadata": {},
     "output_type": "execute_result"
    }
   ],
   "source": [
    "df.shape"
   ]
  },
  {
   "cell_type": "code",
   "execution_count": 58,
   "metadata": {},
   "outputs": [
    {
     "data": {
      "text/plain": [
       "(58127, 27)"
      ]
     },
     "execution_count": 58,
     "metadata": {},
     "output_type": "execute_result"
    }
   ],
   "source": [
    "player_team_df.shape"
   ]
  },
  {
   "cell_type": "code",
   "execution_count": 59,
   "metadata": {},
   "outputs": [
    {
     "data": {
      "text/plain": [
       "103"
      ]
     },
     "execution_count": 59,
     "metadata": {},
     "output_type": "execute_result"
    }
   ],
   "source": [
    "len(player_team_df[np.isnan(player_team_df.team_id)].player_name.unique())"
   ]
  },
  {
   "cell_type": "code",
   "execution_count": 60,
   "metadata": {},
   "outputs": [
    {
     "data": {
      "text/plain": [
       "4905"
      ]
     },
     "execution_count": 60,
     "metadata": {},
     "output_type": "execute_result"
    }
   ],
   "source": [
    "len(df.player_name.unique())"
   ]
  },
  {
   "cell_type": "markdown",
   "metadata": {},
   "source": [
    "So we're missing teams for about 2% of players. How many shots is that?"
   ]
  },
  {
   "cell_type": "code",
   "execution_count": 61,
   "metadata": {},
   "outputs": [
    {
     "data": {
      "text/plain": [
       "21"
      ]
     },
     "execution_count": 61,
     "metadata": {},
     "output_type": "execute_result"
    }
   ],
   "source": [
    "player_team_df[np.isnan(player_team_df.team_id)].sh_att.sum()"
   ]
  },
  {
   "cell_type": "markdown",
   "metadata": {},
   "source": [
    "Just 21 shots, so don't worry about the merge. Though it should just be on player_id instead of that and player_name"
   ]
  },
  {
   "cell_type": "code",
   "execution_count": 62,
   "metadata": {
    "collapsed": true
   },
   "outputs": [],
   "source": [
    "boxscores = pd.merge(df, team_player, on=['player_id', 'player_name'], how='inner')"
   ]
  },
  {
   "cell_type": "code",
   "execution_count": 63,
   "metadata": {},
   "outputs": [
    {
     "data": {
      "text/plain": [
       "Index(['game_id', 'section_id', 'player_id', 'player_name', 'player_url',\n",
       "       'position', 'goals', 'assists', 'sh_att', 'sog', 'fouls', 'red_cards',\n",
       "       'yellow_cards', 'gc', 'goal_app', 'ggs', 'goalie_min_plyd', 'ga',\n",
       "       'saves', 'shutouts', 'g_wins', 'g_loss', 'dsaves', 'corners', 'team_id',\n",
       "       'team_name', 'class_year'],\n",
       "      dtype='object')"
      ]
     },
     "execution_count": 63,
     "metadata": {},
     "output_type": "execute_result"
    }
   ],
   "source": [
    "boxscores.columns"
   ]
  },
  {
   "cell_type": "code",
   "execution_count": 64,
   "metadata": {},
   "outputs": [
    {
     "data": {
      "text/html": [
       "<div>\n",
       "<table border=\"1\" class=\"dataframe\">\n",
       "  <thead>\n",
       "    <tr style=\"text-align: right;\">\n",
       "      <th></th>\n",
       "      <th>game_id</th>\n",
       "      <th>section_id</th>\n",
       "      <th>player_id</th>\n",
       "      <th>player_name</th>\n",
       "      <th>player_url</th>\n",
       "      <th>position</th>\n",
       "      <th>goals</th>\n",
       "      <th>assists</th>\n",
       "      <th>sh_att</th>\n",
       "      <th>sog</th>\n",
       "      <th>...</th>\n",
       "      <th>ga</th>\n",
       "      <th>saves</th>\n",
       "      <th>shutouts</th>\n",
       "      <th>g_wins</th>\n",
       "      <th>g_loss</th>\n",
       "      <th>dsaves</th>\n",
       "      <th>corners</th>\n",
       "      <th>team_id</th>\n",
       "      <th>team_name</th>\n",
       "      <th>class_year</th>\n",
       "    </tr>\n",
       "  </thead>\n",
       "  <tbody>\n",
       "    <tr>\n",
       "      <th>0</th>\n",
       "      <td>4378055</td>\n",
       "      <td>0</td>\n",
       "      <td>1912569.0</td>\n",
       "      <td>Bien-Aime, JB</td>\n",
       "      <td>http://stats.ncaa.org/player/index?game_sport_...</td>\n",
       "      <td>D</td>\n",
       "      <td>0</td>\n",
       "      <td>0</td>\n",
       "      <td>0</td>\n",
       "      <td>0</td>\n",
       "      <td>...</td>\n",
       "      <td>0</td>\n",
       "      <td>0</td>\n",
       "      <td>0</td>\n",
       "      <td>0</td>\n",
       "      <td>0</td>\n",
       "      <td>0</td>\n",
       "      <td>0</td>\n",
       "      <td>290</td>\n",
       "      <td>Howard</td>\n",
       "      <td>Fr</td>\n",
       "    </tr>\n",
       "    <tr>\n",
       "      <th>1</th>\n",
       "      <td>4379236</td>\n",
       "      <td>0</td>\n",
       "      <td>1912569.0</td>\n",
       "      <td>Bien-Aime, JB</td>\n",
       "      <td>http://stats.ncaa.org/player/index?game_sport_...</td>\n",
       "      <td>D</td>\n",
       "      <td>0</td>\n",
       "      <td>0</td>\n",
       "      <td>0</td>\n",
       "      <td>0</td>\n",
       "      <td>...</td>\n",
       "      <td>0</td>\n",
       "      <td>0</td>\n",
       "      <td>0</td>\n",
       "      <td>0</td>\n",
       "      <td>0</td>\n",
       "      <td>0</td>\n",
       "      <td>0</td>\n",
       "      <td>290</td>\n",
       "      <td>Howard</td>\n",
       "      <td>Fr</td>\n",
       "    </tr>\n",
       "    <tr>\n",
       "      <th>2</th>\n",
       "      <td>4382728</td>\n",
       "      <td>0</td>\n",
       "      <td>1912569.0</td>\n",
       "      <td>Bien-Aime, JB</td>\n",
       "      <td>http://stats.ncaa.org/player/index?game_sport_...</td>\n",
       "      <td>D</td>\n",
       "      <td>0</td>\n",
       "      <td>0</td>\n",
       "      <td>0</td>\n",
       "      <td>0</td>\n",
       "      <td>...</td>\n",
       "      <td>0</td>\n",
       "      <td>0</td>\n",
       "      <td>0</td>\n",
       "      <td>0</td>\n",
       "      <td>0</td>\n",
       "      <td>0</td>\n",
       "      <td>0</td>\n",
       "      <td>290</td>\n",
       "      <td>Howard</td>\n",
       "      <td>Fr</td>\n",
       "    </tr>\n",
       "    <tr>\n",
       "      <th>3</th>\n",
       "      <td>4391432</td>\n",
       "      <td>0</td>\n",
       "      <td>1912569.0</td>\n",
       "      <td>Bien-Aime, JB</td>\n",
       "      <td>http://stats.ncaa.org/player/index?game_sport_...</td>\n",
       "      <td>NaN</td>\n",
       "      <td>0</td>\n",
       "      <td>0</td>\n",
       "      <td>0</td>\n",
       "      <td>0</td>\n",
       "      <td>...</td>\n",
       "      <td>0</td>\n",
       "      <td>0</td>\n",
       "      <td>0</td>\n",
       "      <td>0</td>\n",
       "      <td>0</td>\n",
       "      <td>0</td>\n",
       "      <td>0</td>\n",
       "      <td>290</td>\n",
       "      <td>Howard</td>\n",
       "      <td>Fr</td>\n",
       "    </tr>\n",
       "    <tr>\n",
       "      <th>4</th>\n",
       "      <td>4393160</td>\n",
       "      <td>1</td>\n",
       "      <td>1912569.0</td>\n",
       "      <td>Bien-Aime, JB</td>\n",
       "      <td>http://stats.ncaa.org/player/index?game_sport_...</td>\n",
       "      <td>NaN</td>\n",
       "      <td>0</td>\n",
       "      <td>0</td>\n",
       "      <td>0</td>\n",
       "      <td>0</td>\n",
       "      <td>...</td>\n",
       "      <td>0</td>\n",
       "      <td>0</td>\n",
       "      <td>0</td>\n",
       "      <td>0</td>\n",
       "      <td>0</td>\n",
       "      <td>0</td>\n",
       "      <td>0</td>\n",
       "      <td>290</td>\n",
       "      <td>Howard</td>\n",
       "      <td>Fr</td>\n",
       "    </tr>\n",
       "  </tbody>\n",
       "</table>\n",
       "<p>5 rows × 27 columns</p>\n",
       "</div>"
      ],
      "text/plain": [
       "   game_id  section_id  player_id    player_name  \\\n",
       "0  4378055           0  1912569.0  Bien-Aime, JB   \n",
       "1  4379236           0  1912569.0  Bien-Aime, JB   \n",
       "2  4382728           0  1912569.0  Bien-Aime, JB   \n",
       "3  4391432           0  1912569.0  Bien-Aime, JB   \n",
       "4  4393160           1  1912569.0  Bien-Aime, JB   \n",
       "\n",
       "                                          player_url position  goals  assists  \\\n",
       "0  http://stats.ncaa.org/player/index?game_sport_...        D      0        0   \n",
       "1  http://stats.ncaa.org/player/index?game_sport_...        D      0        0   \n",
       "2  http://stats.ncaa.org/player/index?game_sport_...        D      0        0   \n",
       "3  http://stats.ncaa.org/player/index?game_sport_...      NaN      0        0   \n",
       "4  http://stats.ncaa.org/player/index?game_sport_...      NaN      0        0   \n",
       "\n",
       "   sh_att  sog     ...      ga  saves  shutouts  g_wins  g_loss  dsaves  \\\n",
       "0       0    0     ...       0      0         0       0       0       0   \n",
       "1       0    0     ...       0      0         0       0       0       0   \n",
       "2       0    0     ...       0      0         0       0       0       0   \n",
       "3       0    0     ...       0      0         0       0       0       0   \n",
       "4       0    0     ...       0      0         0       0       0       0   \n",
       "\n",
       "   corners  team_id  team_name  class_year  \n",
       "0        0      290     Howard          Fr  \n",
       "1        0      290     Howard          Fr  \n",
       "2        0      290     Howard          Fr  \n",
       "3        0      290     Howard          Fr  \n",
       "4        0      290     Howard          Fr  \n",
       "\n",
       "[5 rows x 27 columns]"
      ]
     },
     "execution_count": 64,
     "metadata": {},
     "output_type": "execute_result"
    }
   ],
   "source": [
    "boxscores.head()"
   ]
  },
  {
   "cell_type": "markdown",
   "metadata": {},
   "source": [
    "Let's get it to the only data we REALLY care about for this - shots and goals"
   ]
  },
  {
   "cell_type": "code",
   "execution_count": 65,
   "metadata": {
    "collapsed": true
   },
   "outputs": [],
   "source": [
    "boxscores = boxscores[['game_id', 'player_id', 'player_name',\n",
    "                       'team_id', 'team_name', 'class_year', \n",
    "                       'position', 'goals', 'sh_att']]"
   ]
  },
  {
   "cell_type": "code",
   "execution_count": 66,
   "metadata": {},
   "outputs": [
    {
     "data": {
      "text/html": [
       "<div>\n",
       "<table border=\"1\" class=\"dataframe\">\n",
       "  <thead>\n",
       "    <tr style=\"text-align: right;\">\n",
       "      <th></th>\n",
       "      <th>game_id</th>\n",
       "      <th>player_id</th>\n",
       "      <th>player_name</th>\n",
       "      <th>team_id</th>\n",
       "      <th>team_name</th>\n",
       "      <th>class_year</th>\n",
       "      <th>position</th>\n",
       "      <th>goals</th>\n",
       "      <th>sh_att</th>\n",
       "    </tr>\n",
       "  </thead>\n",
       "  <tbody>\n",
       "    <tr>\n",
       "      <th>0</th>\n",
       "      <td>4378055</td>\n",
       "      <td>1912569.0</td>\n",
       "      <td>Bien-Aime, JB</td>\n",
       "      <td>290</td>\n",
       "      <td>Howard</td>\n",
       "      <td>Fr</td>\n",
       "      <td>D</td>\n",
       "      <td>0</td>\n",
       "      <td>0</td>\n",
       "    </tr>\n",
       "    <tr>\n",
       "      <th>1</th>\n",
       "      <td>4379236</td>\n",
       "      <td>1912569.0</td>\n",
       "      <td>Bien-Aime, JB</td>\n",
       "      <td>290</td>\n",
       "      <td>Howard</td>\n",
       "      <td>Fr</td>\n",
       "      <td>D</td>\n",
       "      <td>0</td>\n",
       "      <td>0</td>\n",
       "    </tr>\n",
       "    <tr>\n",
       "      <th>2</th>\n",
       "      <td>4382728</td>\n",
       "      <td>1912569.0</td>\n",
       "      <td>Bien-Aime, JB</td>\n",
       "      <td>290</td>\n",
       "      <td>Howard</td>\n",
       "      <td>Fr</td>\n",
       "      <td>D</td>\n",
       "      <td>0</td>\n",
       "      <td>0</td>\n",
       "    </tr>\n",
       "    <tr>\n",
       "      <th>3</th>\n",
       "      <td>4391432</td>\n",
       "      <td>1912569.0</td>\n",
       "      <td>Bien-Aime, JB</td>\n",
       "      <td>290</td>\n",
       "      <td>Howard</td>\n",
       "      <td>Fr</td>\n",
       "      <td>NaN</td>\n",
       "      <td>0</td>\n",
       "      <td>0</td>\n",
       "    </tr>\n",
       "    <tr>\n",
       "      <th>4</th>\n",
       "      <td>4393160</td>\n",
       "      <td>1912569.0</td>\n",
       "      <td>Bien-Aime, JB</td>\n",
       "      <td>290</td>\n",
       "      <td>Howard</td>\n",
       "      <td>Fr</td>\n",
       "      <td>NaN</td>\n",
       "      <td>0</td>\n",
       "      <td>0</td>\n",
       "    </tr>\n",
       "  </tbody>\n",
       "</table>\n",
       "</div>"
      ],
      "text/plain": [
       "   game_id  player_id    player_name  team_id team_name class_year position  \\\n",
       "0  4378055  1912569.0  Bien-Aime, JB      290    Howard         Fr        D   \n",
       "1  4379236  1912569.0  Bien-Aime, JB      290    Howard         Fr        D   \n",
       "2  4382728  1912569.0  Bien-Aime, JB      290    Howard         Fr        D   \n",
       "3  4391432  1912569.0  Bien-Aime, JB      290    Howard         Fr      NaN   \n",
       "4  4393160  1912569.0  Bien-Aime, JB      290    Howard         Fr      NaN   \n",
       "\n",
       "   goals  sh_att  \n",
       "0      0       0  \n",
       "1      0       0  \n",
       "2      0       0  \n",
       "3      0       0  \n",
       "4      0       0  "
      ]
     },
     "execution_count": 66,
     "metadata": {},
     "output_type": "execute_result"
    }
   ],
   "source": [
    "boxscores.head()"
   ]
  },
  {
   "cell_type": "markdown",
   "metadata": {},
   "source": [
    "Now let's try to find opponent data we can join on. I guess we can create it ourselves"
   ]
  },
  {
   "cell_type": "code",
   "execution_count": 67,
   "metadata": {},
   "outputs": [],
   "source": [
    "matchups = boxscores[['game_id', 'team_id', 'team_name']].drop_duplicates()"
   ]
  },
  {
   "cell_type": "code",
   "execution_count": 68,
   "metadata": {},
   "outputs": [],
   "source": [
    "stats = pd.merge(boxscores, matchups, on='game_id', suffixes=(\"\", \"_opposition\"))\n",
    "stats = stats[stats.team_id_opposition != stats.team_id]"
   ]
  },
  {
   "cell_type": "code",
   "execution_count": 69,
   "metadata": {},
   "outputs": [
    {
     "data": {
      "text/html": [
       "<div>\n",
       "<table border=\"1\" class=\"dataframe\">\n",
       "  <thead>\n",
       "    <tr style=\"text-align: right;\">\n",
       "      <th></th>\n",
       "      <th>game_id</th>\n",
       "      <th>player_id</th>\n",
       "      <th>player_name</th>\n",
       "      <th>team_id</th>\n",
       "      <th>team_name</th>\n",
       "      <th>class_year</th>\n",
       "      <th>position</th>\n",
       "      <th>goals</th>\n",
       "      <th>sh_att</th>\n",
       "      <th>team_id_opposition</th>\n",
       "      <th>team_name_opposition</th>\n",
       "    </tr>\n",
       "  </thead>\n",
       "  <tbody>\n",
       "    <tr>\n",
       "      <th>1</th>\n",
       "      <td>4378055</td>\n",
       "      <td>1912569.0</td>\n",
       "      <td>Bien-Aime, JB</td>\n",
       "      <td>290</td>\n",
       "      <td>Howard</td>\n",
       "      <td>Fr</td>\n",
       "      <td>D</td>\n",
       "      <td>0</td>\n",
       "      <td>0</td>\n",
       "      <td>19651</td>\n",
       "      <td>High Point</td>\n",
       "    </tr>\n",
       "    <tr>\n",
       "      <th>3</th>\n",
       "      <td>4378055</td>\n",
       "      <td>1807767.0</td>\n",
       "      <td>Caro, Carlos</td>\n",
       "      <td>290</td>\n",
       "      <td>Howard</td>\n",
       "      <td>So</td>\n",
       "      <td>GK</td>\n",
       "      <td>0</td>\n",
       "      <td>0</td>\n",
       "      <td>19651</td>\n",
       "      <td>High Point</td>\n",
       "    </tr>\n",
       "    <tr>\n",
       "      <th>5</th>\n",
       "      <td>4378055</td>\n",
       "      <td>1598828.0</td>\n",
       "      <td>Celestine, Kyle</td>\n",
       "      <td>290</td>\n",
       "      <td>Howard</td>\n",
       "      <td>Sr</td>\n",
       "      <td>F</td>\n",
       "      <td>0</td>\n",
       "      <td>0</td>\n",
       "      <td>19651</td>\n",
       "      <td>High Point</td>\n",
       "    </tr>\n",
       "    <tr>\n",
       "      <th>7</th>\n",
       "      <td>4378055</td>\n",
       "      <td>1703207.0</td>\n",
       "      <td>Cunningham, Joel</td>\n",
       "      <td>290</td>\n",
       "      <td>Howard</td>\n",
       "      <td>Jr</td>\n",
       "      <td>D</td>\n",
       "      <td>0</td>\n",
       "      <td>0</td>\n",
       "      <td>19651</td>\n",
       "      <td>High Point</td>\n",
       "    </tr>\n",
       "    <tr>\n",
       "      <th>9</th>\n",
       "      <td>4378055</td>\n",
       "      <td>1807768.0</td>\n",
       "      <td>Garwood, Javauni</td>\n",
       "      <td>290</td>\n",
       "      <td>Howard</td>\n",
       "      <td>So</td>\n",
       "      <td>M</td>\n",
       "      <td>0</td>\n",
       "      <td>1</td>\n",
       "      <td>19651</td>\n",
       "      <td>High Point</td>\n",
       "    </tr>\n",
       "  </tbody>\n",
       "</table>\n",
       "</div>"
      ],
      "text/plain": [
       "   game_id  player_id       player_name  team_id team_name class_year  \\\n",
       "1  4378055  1912569.0     Bien-Aime, JB      290    Howard         Fr   \n",
       "3  4378055  1807767.0      Caro, Carlos      290    Howard         So   \n",
       "5  4378055  1598828.0   Celestine, Kyle      290    Howard         Sr   \n",
       "7  4378055  1703207.0  Cunningham, Joel      290    Howard         Jr   \n",
       "9  4378055  1807768.0  Garwood, Javauni      290    Howard         So   \n",
       "\n",
       "  position  goals  sh_att  team_id_opposition team_name_opposition  \n",
       "1        D      0       0               19651           High Point  \n",
       "3       GK      0       0               19651           High Point  \n",
       "5        F      0       0               19651           High Point  \n",
       "7        D      0       0               19651           High Point  \n",
       "9        M      0       1               19651           High Point  "
      ]
     },
     "execution_count": 69,
     "metadata": {},
     "output_type": "execute_result"
    }
   ],
   "source": [
    "stats.head()"
   ]
  },
  {
   "cell_type": "code",
   "execution_count": 70,
   "metadata": {},
   "outputs": [
    {
     "data": {
      "text/plain": [
       "(58013, 9)"
      ]
     },
     "execution_count": 70,
     "metadata": {},
     "output_type": "execute_result"
    }
   ],
   "source": [
    "boxscores.shape"
   ]
  },
  {
   "cell_type": "code",
   "execution_count": 71,
   "metadata": {},
   "outputs": [
    {
     "data": {
      "text/plain": [
       "(57825, 11)"
      ]
     },
     "execution_count": 71,
     "metadata": {},
     "output_type": "execute_result"
    }
   ],
   "source": [
    "stats.shape"
   ]
  },
  {
   "cell_type": "code",
   "execution_count": 72,
   "metadata": {},
   "outputs": [
    {
     "data": {
      "text/plain": [
       "Series([], dtype: int64)"
      ]
     },
     "execution_count": 72,
     "metadata": {},
     "output_type": "execute_result"
    }
   ],
   "source": [
    "t = stats[['game_id', 'team_id_opposition', 'team_id']].drop_duplicates().groupby('game_id').size().sort_values(ascending=False)\n",
    "t[t > 2]"
   ]
  },
  {
   "cell_type": "code",
   "execution_count": 73,
   "metadata": {},
   "outputs": [],
   "source": [
    "shots = stats[stats.sh_att > 0]"
   ]
  },
  {
   "cell_type": "code",
   "execution_count": 74,
   "metadata": {},
   "outputs": [
    {
     "data": {
      "text/plain": [
       "42508"
      ]
     },
     "execution_count": 74,
     "metadata": {},
     "output_type": "execute_result"
    }
   ],
   "source": [
    "shots.sh_att.sum()"
   ]
  },
  {
   "cell_type": "code",
   "execution_count": 75,
   "metadata": {},
   "outputs": [
    {
     "data": {
      "text/plain": [
       "42773"
      ]
     },
     "execution_count": 75,
     "metadata": {},
     "output_type": "execute_result"
    }
   ],
   "source": [
    "df.sh_att.sum()"
   ]
  },
  {
   "cell_type": "markdown",
   "metadata": {},
   "source": [
    "So we're missing about 200 shots - eh. Could be worse I guess"
   ]
  },
  {
   "cell_type": "markdown",
   "metadata": {},
   "source": [
    "Let's just look at some neat stuff"
   ]
  },
  {
   "cell_type": "code",
   "execution_count": 121,
   "metadata": {},
   "outputs": [],
   "source": [
    "shots_for = shots.groupby('team_name')[['sh_att', 'goals']].sum()\n",
    "shots_against = shots.groupby('team_name_opposition')[['sh_att', 'goals']].sum()\n",
    "tsr = shots_for.join(shots_against, rsuffix='_against')\n",
    "tsr['tsr'] = tsr['sh_att'] / (tsr['sh_att'] + tsr['sh_att_against'])\n",
    "tsr['shooting_perc'] = tsr['goals'] / tsr['sh_att']\n",
    "tsr['shooting_perc_against'] = tsr['goals_against'] / tsr['sh_att_against']"
   ]
  },
  {
   "cell_type": "code",
   "execution_count": 130,
   "metadata": {},
   "outputs": [
    {
     "data": {
      "text/plain": [
       "sh_att                   252.000000\n",
       "goals                     29.000000\n",
       "sh_att_against           178.000000\n",
       "goals_against             18.000000\n",
       "tsr                        0.586047\n",
       "shooting_perc              0.115079\n",
       "shooting_perc_against      0.101124\n",
       "Name: Duke, dtype: float64"
      ]
     },
     "execution_count": 130,
     "metadata": {},
     "output_type": "execute_result"
    }
   ],
   "source": [
    "tsr.loc['Duke']"
   ]
  },
  {
   "cell_type": "code",
   "execution_count": 122,
   "metadata": {},
   "outputs": [
    {
     "data": {
      "text/html": [
       "<div>\n",
       "<table border=\"1\" class=\"dataframe\">\n",
       "  <thead>\n",
       "    <tr style=\"text-align: right;\">\n",
       "      <th></th>\n",
       "      <th>sh_att</th>\n",
       "      <th>goals</th>\n",
       "      <th>sh_att_against</th>\n",
       "      <th>goals_against</th>\n",
       "      <th>tsr</th>\n",
       "      <th>shooting_perc</th>\n",
       "      <th>shooting_perc_against</th>\n",
       "    </tr>\n",
       "    <tr>\n",
       "      <th>team_name</th>\n",
       "      <th></th>\n",
       "      <th></th>\n",
       "      <th></th>\n",
       "      <th></th>\n",
       "      <th></th>\n",
       "      <th></th>\n",
       "      <th></th>\n",
       "    </tr>\n",
       "  </thead>\n",
       "  <tbody>\n",
       "    <tr>\n",
       "      <th>Seattle U</th>\n",
       "      <td>378</td>\n",
       "      <td>31</td>\n",
       "      <td>117</td>\n",
       "      <td>16</td>\n",
       "      <td>0.763636</td>\n",
       "      <td>0.082011</td>\n",
       "      <td>0.136752</td>\n",
       "    </tr>\n",
       "    <tr>\n",
       "      <th>Wake Forest</th>\n",
       "      <td>306</td>\n",
       "      <td>53</td>\n",
       "      <td>109</td>\n",
       "      <td>10</td>\n",
       "      <td>0.737349</td>\n",
       "      <td>0.173203</td>\n",
       "      <td>0.091743</td>\n",
       "    </tr>\n",
       "    <tr>\n",
       "      <th>Western Mich.</th>\n",
       "      <td>270</td>\n",
       "      <td>33</td>\n",
       "      <td>116</td>\n",
       "      <td>11</td>\n",
       "      <td>0.699482</td>\n",
       "      <td>0.122222</td>\n",
       "      <td>0.094828</td>\n",
       "    </tr>\n",
       "    <tr>\n",
       "      <th>Indiana</th>\n",
       "      <td>320</td>\n",
       "      <td>38</td>\n",
       "      <td>145</td>\n",
       "      <td>4</td>\n",
       "      <td>0.688172</td>\n",
       "      <td>0.118750</td>\n",
       "      <td>0.027586</td>\n",
       "    </tr>\n",
       "    <tr>\n",
       "      <th>Columbia</th>\n",
       "      <td>233</td>\n",
       "      <td>27</td>\n",
       "      <td>109</td>\n",
       "      <td>6</td>\n",
       "      <td>0.681287</td>\n",
       "      <td>0.115880</td>\n",
       "      <td>0.055046</td>\n",
       "    </tr>\n",
       "    <tr>\n",
       "      <th>Charlotte</th>\n",
       "      <td>266</td>\n",
       "      <td>21</td>\n",
       "      <td>134</td>\n",
       "      <td>19</td>\n",
       "      <td>0.665000</td>\n",
       "      <td>0.078947</td>\n",
       "      <td>0.141791</td>\n",
       "    </tr>\n",
       "    <tr>\n",
       "      <th>Army West Point</th>\n",
       "      <td>259</td>\n",
       "      <td>21</td>\n",
       "      <td>132</td>\n",
       "      <td>14</td>\n",
       "      <td>0.662404</td>\n",
       "      <td>0.081081</td>\n",
       "      <td>0.106061</td>\n",
       "    </tr>\n",
       "    <tr>\n",
       "      <th>Akron</th>\n",
       "      <td>254</td>\n",
       "      <td>39</td>\n",
       "      <td>130</td>\n",
       "      <td>8</td>\n",
       "      <td>0.661458</td>\n",
       "      <td>0.153543</td>\n",
       "      <td>0.061538</td>\n",
       "    </tr>\n",
       "    <tr>\n",
       "      <th>Furman</th>\n",
       "      <td>290</td>\n",
       "      <td>39</td>\n",
       "      <td>150</td>\n",
       "      <td>16</td>\n",
       "      <td>0.659091</td>\n",
       "      <td>0.134483</td>\n",
       "      <td>0.106667</td>\n",
       "    </tr>\n",
       "    <tr>\n",
       "      <th>Clemson</th>\n",
       "      <td>281</td>\n",
       "      <td>38</td>\n",
       "      <td>146</td>\n",
       "      <td>16</td>\n",
       "      <td>0.658080</td>\n",
       "      <td>0.135231</td>\n",
       "      <td>0.109589</td>\n",
       "    </tr>\n",
       "  </tbody>\n",
       "</table>\n",
       "</div>"
      ],
      "text/plain": [
       "                 sh_att  goals  sh_att_against  goals_against       tsr  \\\n",
       "team_name                                                                 \n",
       "Seattle U           378     31             117             16  0.763636   \n",
       "Wake Forest         306     53             109             10  0.737349   \n",
       "Western Mich.       270     33             116             11  0.699482   \n",
       "Indiana             320     38             145              4  0.688172   \n",
       "Columbia            233     27             109              6  0.681287   \n",
       "Charlotte           266     21             134             19  0.665000   \n",
       "Army West Point     259     21             132             14  0.662404   \n",
       "Akron               254     39             130              8  0.661458   \n",
       "Furman              290     39             150             16  0.659091   \n",
       "Clemson             281     38             146             16  0.658080   \n",
       "\n",
       "                 shooting_perc  shooting_perc_against  \n",
       "team_name                                              \n",
       "Seattle U             0.082011               0.136752  \n",
       "Wake Forest           0.173203               0.091743  \n",
       "Western Mich.         0.122222               0.094828  \n",
       "Indiana               0.118750               0.027586  \n",
       "Columbia              0.115880               0.055046  \n",
       "Charlotte             0.078947               0.141791  \n",
       "Army West Point       0.081081               0.106061  \n",
       "Akron                 0.153543               0.061538  \n",
       "Furman                0.134483               0.106667  \n",
       "Clemson               0.135231               0.109589  "
      ]
     },
     "execution_count": 122,
     "metadata": {},
     "output_type": "execute_result"
    }
   ],
   "source": [
    "tsr.sort_values('tsr', ascending=False)[0:10]"
   ]
  },
  {
   "cell_type": "code",
   "execution_count": 123,
   "metadata": {},
   "outputs": [
    {
     "data": {
      "text/html": [
       "<div>\n",
       "<table border=\"1\" class=\"dataframe\">\n",
       "  <thead>\n",
       "    <tr style=\"text-align: right;\">\n",
       "      <th></th>\n",
       "      <th>sh_att</th>\n",
       "      <th>goals</th>\n",
       "      <th>sh_att_against</th>\n",
       "      <th>goals_against</th>\n",
       "      <th>tsr</th>\n",
       "      <th>shooting_perc</th>\n",
       "      <th>shooting_perc_against</th>\n",
       "    </tr>\n",
       "    <tr>\n",
       "      <th>team_name</th>\n",
       "      <th></th>\n",
       "      <th></th>\n",
       "      <th></th>\n",
       "      <th></th>\n",
       "      <th></th>\n",
       "      <th></th>\n",
       "      <th></th>\n",
       "    </tr>\n",
       "  </thead>\n",
       "  <tbody>\n",
       "    <tr>\n",
       "      <th>FIU</th>\n",
       "      <td>229</td>\n",
       "      <td>46</td>\n",
       "      <td>160</td>\n",
       "      <td>18</td>\n",
       "      <td>0.588689</td>\n",
       "      <td>0.200873</td>\n",
       "      <td>0.112500</td>\n",
       "    </tr>\n",
       "    <tr>\n",
       "      <th>North Carolina</th>\n",
       "      <td>247</td>\n",
       "      <td>47</td>\n",
       "      <td>132</td>\n",
       "      <td>15</td>\n",
       "      <td>0.651715</td>\n",
       "      <td>0.190283</td>\n",
       "      <td>0.113636</td>\n",
       "    </tr>\n",
       "    <tr>\n",
       "      <th>Gardner-Webb</th>\n",
       "      <td>224</td>\n",
       "      <td>42</td>\n",
       "      <td>285</td>\n",
       "      <td>33</td>\n",
       "      <td>0.440079</td>\n",
       "      <td>0.187500</td>\n",
       "      <td>0.115789</td>\n",
       "    </tr>\n",
       "    <tr>\n",
       "      <th>Portland</th>\n",
       "      <td>190</td>\n",
       "      <td>33</td>\n",
       "      <td>193</td>\n",
       "      <td>18</td>\n",
       "      <td>0.496084</td>\n",
       "      <td>0.173684</td>\n",
       "      <td>0.093264</td>\n",
       "    </tr>\n",
       "    <tr>\n",
       "      <th>Wake Forest</th>\n",
       "      <td>306</td>\n",
       "      <td>53</td>\n",
       "      <td>109</td>\n",
       "      <td>10</td>\n",
       "      <td>0.737349</td>\n",
       "      <td>0.173203</td>\n",
       "      <td>0.091743</td>\n",
       "    </tr>\n",
       "    <tr>\n",
       "      <th>San Francisco</th>\n",
       "      <td>171</td>\n",
       "      <td>29</td>\n",
       "      <td>191</td>\n",
       "      <td>34</td>\n",
       "      <td>0.472376</td>\n",
       "      <td>0.169591</td>\n",
       "      <td>0.178010</td>\n",
       "    </tr>\n",
       "    <tr>\n",
       "      <th>Dartmouth</th>\n",
       "      <td>171</td>\n",
       "      <td>29</td>\n",
       "      <td>115</td>\n",
       "      <td>12</td>\n",
       "      <td>0.597902</td>\n",
       "      <td>0.169591</td>\n",
       "      <td>0.104348</td>\n",
       "    </tr>\n",
       "    <tr>\n",
       "      <th>Pacific</th>\n",
       "      <td>168</td>\n",
       "      <td>28</td>\n",
       "      <td>168</td>\n",
       "      <td>14</td>\n",
       "      <td>0.500000</td>\n",
       "      <td>0.166667</td>\n",
       "      <td>0.083333</td>\n",
       "    </tr>\n",
       "    <tr>\n",
       "      <th>Massachusetts</th>\n",
       "      <td>229</td>\n",
       "      <td>38</td>\n",
       "      <td>231</td>\n",
       "      <td>19</td>\n",
       "      <td>0.497826</td>\n",
       "      <td>0.165939</td>\n",
       "      <td>0.082251</td>\n",
       "    </tr>\n",
       "    <tr>\n",
       "      <th>VCU</th>\n",
       "      <td>217</td>\n",
       "      <td>36</td>\n",
       "      <td>149</td>\n",
       "      <td>16</td>\n",
       "      <td>0.592896</td>\n",
       "      <td>0.165899</td>\n",
       "      <td>0.107383</td>\n",
       "    </tr>\n",
       "  </tbody>\n",
       "</table>\n",
       "</div>"
      ],
      "text/plain": [
       "                sh_att  goals  sh_att_against  goals_against       tsr  \\\n",
       "team_name                                                                \n",
       "FIU                229     46             160             18  0.588689   \n",
       "North Carolina     247     47             132             15  0.651715   \n",
       "Gardner-Webb       224     42             285             33  0.440079   \n",
       "Portland           190     33             193             18  0.496084   \n",
       "Wake Forest        306     53             109             10  0.737349   \n",
       "San Francisco      171     29             191             34  0.472376   \n",
       "Dartmouth          171     29             115             12  0.597902   \n",
       "Pacific            168     28             168             14  0.500000   \n",
       "Massachusetts      229     38             231             19  0.497826   \n",
       "VCU                217     36             149             16  0.592896   \n",
       "\n",
       "                shooting_perc  shooting_perc_against  \n",
       "team_name                                             \n",
       "FIU                  0.200873               0.112500  \n",
       "North Carolina       0.190283               0.113636  \n",
       "Gardner-Webb         0.187500               0.115789  \n",
       "Portland             0.173684               0.093264  \n",
       "Wake Forest          0.173203               0.091743  \n",
       "San Francisco        0.169591               0.178010  \n",
       "Dartmouth            0.169591               0.104348  \n",
       "Pacific              0.166667               0.083333  \n",
       "Massachusetts        0.165939               0.082251  \n",
       "VCU                  0.165899               0.107383  "
      ]
     },
     "execution_count": 123,
     "metadata": {},
     "output_type": "execute_result"
    }
   ],
   "source": [
    "tsr.sort_values('shooting_perc', ascending=False)[0:10]"
   ]
  },
  {
   "cell_type": "code",
   "execution_count": 131,
   "metadata": {},
   "outputs": [
    {
     "data": {
      "text/html": [
       "<div>\n",
       "<table border=\"1\" class=\"dataframe\">\n",
       "  <thead>\n",
       "    <tr style=\"text-align: right;\">\n",
       "      <th></th>\n",
       "      <th>sh_att</th>\n",
       "      <th>goals</th>\n",
       "      <th>sh_att_against</th>\n",
       "      <th>goals_against</th>\n",
       "      <th>tsr</th>\n",
       "      <th>shooting_perc</th>\n",
       "      <th>shooting_perc_against</th>\n",
       "    </tr>\n",
       "    <tr>\n",
       "      <th>team_name</th>\n",
       "      <th></th>\n",
       "      <th></th>\n",
       "      <th></th>\n",
       "      <th></th>\n",
       "      <th></th>\n",
       "      <th></th>\n",
       "      <th></th>\n",
       "    </tr>\n",
       "  </thead>\n",
       "  <tbody>\n",
       "    <tr>\n",
       "      <th>Indiana</th>\n",
       "      <td>320</td>\n",
       "      <td>38</td>\n",
       "      <td>145</td>\n",
       "      <td>4</td>\n",
       "      <td>0.688172</td>\n",
       "      <td>0.118750</td>\n",
       "      <td>0.027586</td>\n",
       "    </tr>\n",
       "    <tr>\n",
       "      <th>Missouri St.</th>\n",
       "      <td>144</td>\n",
       "      <td>15</td>\n",
       "      <td>154</td>\n",
       "      <td>7</td>\n",
       "      <td>0.483221</td>\n",
       "      <td>0.104167</td>\n",
       "      <td>0.045455</td>\n",
       "    </tr>\n",
       "    <tr>\n",
       "      <th>Columbia</th>\n",
       "      <td>233</td>\n",
       "      <td>27</td>\n",
       "      <td>109</td>\n",
       "      <td>6</td>\n",
       "      <td>0.681287</td>\n",
       "      <td>0.115880</td>\n",
       "      <td>0.055046</td>\n",
       "    </tr>\n",
       "    <tr>\n",
       "      <th>Brown</th>\n",
       "      <td>184</td>\n",
       "      <td>15</td>\n",
       "      <td>217</td>\n",
       "      <td>12</td>\n",
       "      <td>0.458853</td>\n",
       "      <td>0.081522</td>\n",
       "      <td>0.055300</td>\n",
       "    </tr>\n",
       "    <tr>\n",
       "      <th>Elon</th>\n",
       "      <td>170</td>\n",
       "      <td>18</td>\n",
       "      <td>195</td>\n",
       "      <td>11</td>\n",
       "      <td>0.465753</td>\n",
       "      <td>0.105882</td>\n",
       "      <td>0.056410</td>\n",
       "    </tr>\n",
       "    <tr>\n",
       "      <th>Stanford</th>\n",
       "      <td>293</td>\n",
       "      <td>40</td>\n",
       "      <td>159</td>\n",
       "      <td>9</td>\n",
       "      <td>0.648230</td>\n",
       "      <td>0.136519</td>\n",
       "      <td>0.056604</td>\n",
       "    </tr>\n",
       "    <tr>\n",
       "      <th>St. John's (NY)</th>\n",
       "      <td>210</td>\n",
       "      <td>21</td>\n",
       "      <td>205</td>\n",
       "      <td>12</td>\n",
       "      <td>0.506024</td>\n",
       "      <td>0.100000</td>\n",
       "      <td>0.058537</td>\n",
       "    </tr>\n",
       "    <tr>\n",
       "      <th>Bradley</th>\n",
       "      <td>194</td>\n",
       "      <td>22</td>\n",
       "      <td>270</td>\n",
       "      <td>16</td>\n",
       "      <td>0.418103</td>\n",
       "      <td>0.113402</td>\n",
       "      <td>0.059259</td>\n",
       "    </tr>\n",
       "    <tr>\n",
       "      <th>SMU</th>\n",
       "      <td>221</td>\n",
       "      <td>31</td>\n",
       "      <td>151</td>\n",
       "      <td>9</td>\n",
       "      <td>0.594086</td>\n",
       "      <td>0.140271</td>\n",
       "      <td>0.059603</td>\n",
       "    </tr>\n",
       "    <tr>\n",
       "      <th>Akron</th>\n",
       "      <td>254</td>\n",
       "      <td>39</td>\n",
       "      <td>130</td>\n",
       "      <td>8</td>\n",
       "      <td>0.661458</td>\n",
       "      <td>0.153543</td>\n",
       "      <td>0.061538</td>\n",
       "    </tr>\n",
       "  </tbody>\n",
       "</table>\n",
       "</div>"
      ],
      "text/plain": [
       "                 sh_att  goals  sh_att_against  goals_against       tsr  \\\n",
       "team_name                                                                 \n",
       "Indiana             320     38             145              4  0.688172   \n",
       "Missouri St.        144     15             154              7  0.483221   \n",
       "Columbia            233     27             109              6  0.681287   \n",
       "Brown               184     15             217             12  0.458853   \n",
       "Elon                170     18             195             11  0.465753   \n",
       "Stanford            293     40             159              9  0.648230   \n",
       "St. John's (NY)     210     21             205             12  0.506024   \n",
       "Bradley             194     22             270             16  0.418103   \n",
       "SMU                 221     31             151              9  0.594086   \n",
       "Akron               254     39             130              8  0.661458   \n",
       "\n",
       "                 shooting_perc  shooting_perc_against  \n",
       "team_name                                              \n",
       "Indiana               0.118750               0.027586  \n",
       "Missouri St.          0.104167               0.045455  \n",
       "Columbia              0.115880               0.055046  \n",
       "Brown                 0.081522               0.055300  \n",
       "Elon                  0.105882               0.056410  \n",
       "Stanford              0.136519               0.056604  \n",
       "St. John's (NY)       0.100000               0.058537  \n",
       "Bradley               0.113402               0.059259  \n",
       "SMU                   0.140271               0.059603  \n",
       "Akron                 0.153543               0.061538  "
      ]
     },
     "execution_count": 131,
     "metadata": {},
     "output_type": "execute_result"
    }
   ],
   "source": [
    "tsr.sort_values('shooting_perc_against', ascending=True)[0:10]"
   ]
  },
  {
   "cell_type": "code",
   "execution_count": 134,
   "metadata": {},
   "outputs": [
    {
     "data": {
      "image/png": "[encoded data removed]",
      "text/plain": [
       "<matplotlib.figure.Figure at 0x7f4c34f897b8>"
      ]
     },
     "metadata": {},
     "output_type": "display_data"
    },
    {
     "data": {
      "text/plain": [
       "<ggplot: (-9223363289024993357)>"
      ]
     },
     "execution_count": 134,
     "metadata": {},
     "output_type": "execute_result"
    }
   ],
   "source": [
    "g = ggplot(tsr, aes(x='tsr', y='shooting_perc')) + geom_point()\n",
    "g"
   ]
  },
  {
   "cell_type": "code",
   "execution_count": 152,
   "metadata": {},
   "outputs": [],
   "source": [
    "team_class = shots.groupby(['team_name', 'class_year']).sh_att.sum().to_frame().reset_index()\n",
    "team_full = shots.groupby(['team_name']).sh_att.sum().to_frame().reset_index()\n",
    "team_year = pd.merge(team_class, team_full, on='team_name', suffixes=(\"_class\", \"\"))"
   ]
  },
  {
   "cell_type": "code",
   "execution_count": 156,
   "metadata": {},
   "outputs": [
    {
     "data": {
      "text/html": [
       "<div>\n",
       "<table border=\"1\" class=\"dataframe\">\n",
       "  <thead>\n",
       "    <tr style=\"text-align: right;\">\n",
       "      <th></th>\n",
       "      <th>team_name</th>\n",
       "      <th>class_year</th>\n",
       "      <th>sh_att_class</th>\n",
       "      <th>sh_att</th>\n",
       "      <th>perc</th>\n",
       "    </tr>\n",
       "  </thead>\n",
       "  <tbody>\n",
       "    <tr>\n",
       "      <th>782</th>\n",
       "      <td>Western Ill.</td>\n",
       "      <td>Sr</td>\n",
       "      <td>130</td>\n",
       "      <td>171</td>\n",
       "      <td>0.760234</td>\n",
       "    </tr>\n",
       "    <tr>\n",
       "      <th>798</th>\n",
       "      <td>Wisconsin</td>\n",
       "      <td>Sr</td>\n",
       "      <td>163</td>\n",
       "      <td>219</td>\n",
       "      <td>0.744292</td>\n",
       "    </tr>\n",
       "    <tr>\n",
       "      <th>337</th>\n",
       "      <td>La Salle</td>\n",
       "      <td>Sr</td>\n",
       "      <td>166</td>\n",
       "      <td>237</td>\n",
       "      <td>0.700422</td>\n",
       "    </tr>\n",
       "    <tr>\n",
       "      <th>475</th>\n",
       "      <td>Notre Dame</td>\n",
       "      <td>Sr</td>\n",
       "      <td>171</td>\n",
       "      <td>245</td>\n",
       "      <td>0.697959</td>\n",
       "    </tr>\n",
       "    <tr>\n",
       "      <th>309</th>\n",
       "      <td>Incarnate Word</td>\n",
       "      <td>Sr</td>\n",
       "      <td>138</td>\n",
       "      <td>201</td>\n",
       "      <td>0.686567</td>\n",
       "    </tr>\n",
       "    <tr>\n",
       "      <th>655</th>\n",
       "      <td>Stony Brook</td>\n",
       "      <td>Sr</td>\n",
       "      <td>159</td>\n",
       "      <td>236</td>\n",
       "      <td>0.673729</td>\n",
       "    </tr>\n",
       "    <tr>\n",
       "      <th>110</th>\n",
       "      <td>Clemson</td>\n",
       "      <td>Sr</td>\n",
       "      <td>175</td>\n",
       "      <td>281</td>\n",
       "      <td>0.622776</td>\n",
       "    </tr>\n",
       "    <tr>\n",
       "      <th>165</th>\n",
       "      <td>Detroit Mercy</td>\n",
       "      <td>Sr</td>\n",
       "      <td>137</td>\n",
       "      <td>220</td>\n",
       "      <td>0.622727</td>\n",
       "    </tr>\n",
       "    <tr>\n",
       "      <th>551</th>\n",
       "      <td>Robert Morris</td>\n",
       "      <td>Sr</td>\n",
       "      <td>105</td>\n",
       "      <td>174</td>\n",
       "      <td>0.603448</td>\n",
       "    </tr>\n",
       "    <tr>\n",
       "      <th>743</th>\n",
       "      <td>VCU</td>\n",
       "      <td>Sr</td>\n",
       "      <td>130</td>\n",
       "      <td>217</td>\n",
       "      <td>0.599078</td>\n",
       "    </tr>\n",
       "  </tbody>\n",
       "</table>\n",
       "</div>"
      ],
      "text/plain": [
       "          team_name class_year  sh_att_class  sh_att      perc\n",
       "782    Western Ill.         Sr           130     171  0.760234\n",
       "798       Wisconsin         Sr           163     219  0.744292\n",
       "337        La Salle         Sr           166     237  0.700422\n",
       "475      Notre Dame         Sr           171     245  0.697959\n",
       "309  Incarnate Word         Sr           138     201  0.686567\n",
       "655     Stony Brook         Sr           159     236  0.673729\n",
       "110         Clemson         Sr           175     281  0.622776\n",
       "165   Detroit Mercy         Sr           137     220  0.622727\n",
       "551   Robert Morris         Sr           105     174  0.603448\n",
       "743             VCU         Sr           130     217  0.599078"
      ]
     },
     "execution_count": 156,
     "metadata": {},
     "output_type": "execute_result"
    }
   ],
   "source": [
    "team_year['perc'] = team_year['sh_att_class'] / team_year['sh_att']\n",
    "team_year[team_year['class_year'] == 'Sr'].sort_values('perc', ascending=False)[0:10]"
   ]
  },
  {
   "cell_type": "code",
   "execution_count": 86,
   "metadata": {},
   "outputs": [
    {
     "data": {
      "text/plain": [
       "array(['Air Force', 'Akron', 'Albany (NY)', 'American', 'Appalachian St.',\n",
       "       'Army West Point', 'Belmont', 'Binghamton', 'Boston College',\n",
       "       'Boston U.', 'Bowling Green', 'Bradley', 'Brown', 'Bryant',\n",
       "       'Bucknell', 'Butler', 'CSU Bakersfield', 'CSUN', 'Cal Poly',\n",
       "       'Cal St. Fullerton', 'California', 'Campbell', 'Canisius',\n",
       "       'Central Ark.', 'Central Conn. St.', 'Charlotte', 'Cincinnati',\n",
       "       'Clemson', 'Cleveland St.', 'Coastal Caro.', 'Col. of Charleston',\n",
       "       'Colgate', 'Columbia', 'Cornell', 'Creighton', 'Dartmouth',\n",
       "       'Davidson', 'Dayton', 'DePaul', 'Delaware', 'Denver',\n",
       "       'Detroit Mercy', 'Drake', 'Drexel', 'Duke', 'Duquesne', 'ETSU',\n",
       "       'Eastern Ill.', 'Elon', 'Evansville', 'FGCU', 'FIU', 'Fairfield',\n",
       "       'Fairleigh Dickinson', 'Fla. Atlantic', 'Fordham', 'Fort Wayne',\n",
       "       'Furman', 'Ga. Southern', 'Gardner-Webb', 'George Mason',\n",
       "       'George Washington', 'Georgetown', 'Georgia St.', 'Gonzaga',\n",
       "       'Grand Canyon', 'Green Bay', 'Hartford', 'Hartwick', 'Harvard',\n",
       "       'High Point', 'Hofstra', 'Holy Cross', 'Houston Baptist', 'Howard',\n",
       "       'IUPUI', 'Ill.-Chicago', 'Incarnate Word', 'Indiana', 'Iona',\n",
       "       'Jacksonville', 'James Madison', 'Kentucky', 'LIU Brooklyn',\n",
       "       'La Salle', 'Lafayette', 'Lehigh', 'Liberty', 'Lipscomb',\n",
       "       'Longwood', 'Louisville', 'Loyola Chicago', 'Loyola Maryland',\n",
       "       'Loyola Marymount', 'Manhattan', 'Marist', 'Marquette', 'Marshall',\n",
       "       'Maryland', 'Massachusetts', 'Memphis', 'Mercer', 'Michigan',\n",
       "       'Michigan St.', 'Milwaukee', 'Missouri St.', 'Monmouth', 'NC State',\n",
       "       'NJIT', 'Navy', 'New Hampshire', 'New Mexico', 'Niagara',\n",
       "       'North Carolina', 'North Florida', 'Northeastern', 'Northern Ill.',\n",
       "       'Northern Ky.', 'Northwestern', 'Notre Dame', 'Oakland', 'Ohio St.',\n",
       "       'Old Dominion', 'Omaha', 'Oral Roberts', 'Oregon St.', 'Pacific',\n",
       "       'Penn', 'Penn St.', 'Pittsburgh', 'Portland', 'Presbyterian',\n",
       "       'Princeton', 'Providence', 'Quinnipiac', 'Radford', 'Rhode Island',\n",
       "       'Rider', 'Robert Morris', 'Rutgers', 'SIUE', 'SMU',\n",
       "       'Sacramento St.', 'Sacred Heart', 'Saint Francis (PA)',\n",
       "       \"Saint Joseph's\", 'Saint Louis', \"Saint Mary's (CA)\",\n",
       "       \"Saint Peter's\", 'San Diego', 'San Diego St.', 'San Francisco',\n",
       "       'San Jose St.', 'Santa Clara', 'Seattle U', 'Seton Hall', 'Siena',\n",
       "       'South Carolina', 'South Fla.', 'St. Bonaventure',\n",
       "       'St. Francis Brooklyn', \"St. John's (NY)\", 'Stanford', 'Stetson',\n",
       "       'Stony Brook', 'Syracuse', 'Temple', 'Tulsa', 'UAB', 'UC Davis',\n",
       "       'UC Irvine', 'UC Riverside', 'UC Santa Barbara', 'UCF', 'UCLA',\n",
       "       'UConn', 'UMBC', 'UMKC', 'UMass Lowell', 'UNC Asheville', 'UNCG',\n",
       "       'UNCW', 'UNLV', 'USC Upstate', 'UTRGV', 'Utah Valley', 'VCU', 'VMI',\n",
       "       'Valparaiso', 'Vermont', 'Villanova', 'Virginia', 'Virginia Tech',\n",
       "       'Wake Forest', 'Washington', 'West Virginia', 'Western Ill.',\n",
       "       'Western Mich.', 'William & Mary', 'Winthrop', 'Wisconsin',\n",
       "       'Wofford', 'Wright St.', 'Xavier', 'Yale'], dtype=object)"
      ]
     },
     "execution_count": 86,
     "metadata": {},
     "output_type": "execute_result"
    }
   ],
   "source": [
    "shots.team_name.sort_values().unique()"
   ]
  },
  {
   "cell_type": "markdown",
   "metadata": {},
   "source": [
    "Now let's expand those so that we get a row per shot, with a g as the outcome"
   ]
  },
  {
   "cell_type": "code",
   "execution_count": 76,
   "metadata": {},
   "outputs": [
    {
     "data": {
      "text/html": [
       "<div>\n",
       "<table border=\"1\" class=\"dataframe\">\n",
       "  <thead>\n",
       "    <tr style=\"text-align: right;\">\n",
       "      <th></th>\n",
       "      <th>game_id</th>\n",
       "      <th>player_id</th>\n",
       "      <th>player_name</th>\n",
       "      <th>team_id</th>\n",
       "      <th>team_name</th>\n",
       "      <th>class_year</th>\n",
       "      <th>position</th>\n",
       "      <th>goals</th>\n",
       "      <th>sh_att</th>\n",
       "      <th>team_id_opposition</th>\n",
       "      <th>team_name_opposition</th>\n",
       "    </tr>\n",
       "  </thead>\n",
       "  <tbody>\n",
       "    <tr>\n",
       "      <th>115804</th>\n",
       "      <td>4384327</td>\n",
       "      <td>1608282.0</td>\n",
       "      <td>Nuss, Eric</td>\n",
       "      <td>167</td>\n",
       "      <td>Cornell</td>\n",
       "      <td>Sr</td>\n",
       "      <td>D</td>\n",
       "      <td>0</td>\n",
       "      <td>1</td>\n",
       "      <td>663</td>\n",
       "      <td>SMU</td>\n",
       "    </tr>\n",
       "    <tr>\n",
       "      <th>115806</th>\n",
       "      <td>4384327</td>\n",
       "      <td>1794852.0</td>\n",
       "      <td>Pedlow, George</td>\n",
       "      <td>167</td>\n",
       "      <td>Cornell</td>\n",
       "      <td>So</td>\n",
       "      <td>F</td>\n",
       "      <td>0</td>\n",
       "      <td>2</td>\n",
       "      <td>663</td>\n",
       "      <td>SMU</td>\n",
       "    </tr>\n",
       "    <tr>\n",
       "      <th>115814</th>\n",
       "      <td>4384327</td>\n",
       "      <td>1794846.0</td>\n",
       "      <td>Adams, Riley</td>\n",
       "      <td>167</td>\n",
       "      <td>Cornell</td>\n",
       "      <td>So</td>\n",
       "      <td>NaN</td>\n",
       "      <td>0</td>\n",
       "      <td>1</td>\n",
       "      <td>663</td>\n",
       "      <td>SMU</td>\n",
       "    </tr>\n",
       "    <tr>\n",
       "      <th>115824</th>\n",
       "      <td>4384327</td>\n",
       "      <td>1608285.0</td>\n",
       "      <td>Griffin, Tommy</td>\n",
       "      <td>167</td>\n",
       "      <td>Cornell</td>\n",
       "      <td>Sr</td>\n",
       "      <td>NaN</td>\n",
       "      <td>0</td>\n",
       "      <td>1</td>\n",
       "      <td>663</td>\n",
       "      <td>SMU</td>\n",
       "    </tr>\n",
       "    <tr>\n",
       "      <th>115835</th>\n",
       "      <td>4384327</td>\n",
       "      <td>1572962.0</td>\n",
       "      <td>Welch, Garrett</td>\n",
       "      <td>663</td>\n",
       "      <td>SMU</td>\n",
       "      <td>Sr</td>\n",
       "      <td>D</td>\n",
       "      <td>1</td>\n",
       "      <td>1</td>\n",
       "      <td>167</td>\n",
       "      <td>Cornell</td>\n",
       "    </tr>\n",
       "  </tbody>\n",
       "</table>\n",
       "</div>"
      ],
      "text/plain": [
       "        game_id  player_id     player_name  team_id team_name class_year  \\\n",
       "115804  4384327  1608282.0      Nuss, Eric      167   Cornell         Sr   \n",
       "115806  4384327  1794852.0  Pedlow, George      167   Cornell         So   \n",
       "115814  4384327  1794846.0    Adams, Riley      167   Cornell         So   \n",
       "115824  4384327  1608285.0  Griffin, Tommy      167   Cornell         Sr   \n",
       "115835  4384327  1572962.0  Welch, Garrett      663       SMU         Sr   \n",
       "\n",
       "       position  goals  sh_att  team_id_opposition team_name_opposition  \n",
       "115804        D      0       1                 663                  SMU  \n",
       "115806        F      0       2                 663                  SMU  \n",
       "115814      NaN      0       1                 663                  SMU  \n",
       "115824      NaN      0       1                 663                  SMU  \n",
       "115835        D      1       1                 167              Cornell  "
      ]
     },
     "execution_count": 76,
     "metadata": {},
     "output_type": "execute_result"
    }
   ],
   "source": [
    "shots.tail()"
   ]
  },
  {
   "cell_type": "markdown",
   "metadata": {},
   "source": [
    "Unroll it so we get a row for each shot attempt"
   ]
  },
  {
   "cell_type": "code",
   "execution_count": 37,
   "metadata": {},
   "outputs": [
    {
     "data": {
      "text/html": [
       "<div>\n",
       "<table border=\"1\" class=\"dataframe\">\n",
       "  <thead>\n",
       "    <tr style=\"text-align: right;\">\n",
       "      <th></th>\n",
       "      <th>game_id</th>\n",
       "      <th>player_id</th>\n",
       "      <th>player_name</th>\n",
       "      <th>team_id</th>\n",
       "      <th>team_name</th>\n",
       "      <th>class_year</th>\n",
       "      <th>position</th>\n",
       "      <th>goals</th>\n",
       "      <th>sh_att</th>\n",
       "      <th>team_id_opposition</th>\n",
       "      <th>team_name_opposition</th>\n",
       "    </tr>\n",
       "  </thead>\n",
       "  <tbody>\n",
       "    <tr>\n",
       "      <th>115800</th>\n",
       "      <td>4384327</td>\n",
       "      <td>1927518.0</td>\n",
       "      <td>Hansan, Tommy</td>\n",
       "      <td>167</td>\n",
       "      <td>Cornell</td>\n",
       "      <td>Fr</td>\n",
       "      <td>MF</td>\n",
       "      <td>0</td>\n",
       "      <td>1</td>\n",
       "      <td>663</td>\n",
       "      <td>SMU</td>\n",
       "    </tr>\n",
       "    <tr>\n",
       "      <th>115804</th>\n",
       "      <td>4384327</td>\n",
       "      <td>1608282.0</td>\n",
       "      <td>Nuss, Eric</td>\n",
       "      <td>167</td>\n",
       "      <td>Cornell</td>\n",
       "      <td>Sr</td>\n",
       "      <td>D</td>\n",
       "      <td>0</td>\n",
       "      <td>1</td>\n",
       "      <td>663</td>\n",
       "      <td>SMU</td>\n",
       "    </tr>\n",
       "    <tr>\n",
       "      <th>115806</th>\n",
       "      <td>4384327</td>\n",
       "      <td>1794852.0</td>\n",
       "      <td>Pedlow, George</td>\n",
       "      <td>167</td>\n",
       "      <td>Cornell</td>\n",
       "      <td>So</td>\n",
       "      <td>F</td>\n",
       "      <td>0</td>\n",
       "      <td>2</td>\n",
       "      <td>663</td>\n",
       "      <td>SMU</td>\n",
       "    </tr>\n",
       "    <tr>\n",
       "      <th>115814</th>\n",
       "      <td>4384327</td>\n",
       "      <td>1794846.0</td>\n",
       "      <td>Adams, Riley</td>\n",
       "      <td>167</td>\n",
       "      <td>Cornell</td>\n",
       "      <td>So</td>\n",
       "      <td>NaN</td>\n",
       "      <td>0</td>\n",
       "      <td>1</td>\n",
       "      <td>663</td>\n",
       "      <td>SMU</td>\n",
       "    </tr>\n",
       "    <tr>\n",
       "      <th>115824</th>\n",
       "      <td>4384327</td>\n",
       "      <td>1608285.0</td>\n",
       "      <td>Griffin, Tommy</td>\n",
       "      <td>167</td>\n",
       "      <td>Cornell</td>\n",
       "      <td>Sr</td>\n",
       "      <td>NaN</td>\n",
       "      <td>0</td>\n",
       "      <td>1</td>\n",
       "      <td>663</td>\n",
       "      <td>SMU</td>\n",
       "    </tr>\n",
       "  </tbody>\n",
       "</table>\n",
       "</div>"
      ],
      "text/plain": [
       "        game_id  player_id     player_name  team_id team_name class_year  \\\n",
       "115800  4384327  1927518.0   Hansan, Tommy      167   Cornell         Fr   \n",
       "115804  4384327  1608282.0      Nuss, Eric      167   Cornell         Sr   \n",
       "115806  4384327  1794852.0  Pedlow, George      167   Cornell         So   \n",
       "115814  4384327  1794846.0    Adams, Riley      167   Cornell         So   \n",
       "115824  4384327  1608285.0  Griffin, Tommy      167   Cornell         Sr   \n",
       "\n",
       "       position  goals  sh_att  team_id_opposition team_name_opposition  \n",
       "115800       MF      0       1                 663                  SMU  \n",
       "115804        D      0       1                 663                  SMU  \n",
       "115806        F      0       2                 663                  SMU  \n",
       "115814      NaN      0       1                 663                  SMU  \n",
       "115824      NaN      0       1                 663                  SMU  "
      ]
     },
     "execution_count": 37,
     "metadata": {},
     "output_type": "execute_result"
    }
   ],
   "source": [
    "non_goals = shots.copy()\n",
    "non_goals['sh_att'] = non_goals.sh_att - non_goals.goals\n",
    "non_goals['goals'] = 0\n",
    "non_goals = non_goals[non_goals.sh_att > 0]\n",
    "non_goals.tail()"
   ]
  },
  {
   "cell_type": "code",
   "execution_count": 38,
   "metadata": {},
   "outputs": [
    {
     "data": {
      "text/html": [
       "<div>\n",
       "<table border=\"1\" class=\"dataframe\">\n",
       "  <thead>\n",
       "    <tr style=\"text-align: right;\">\n",
       "      <th></th>\n",
       "      <th>game_id</th>\n",
       "      <th>player_id</th>\n",
       "      <th>player_name</th>\n",
       "      <th>team_id</th>\n",
       "      <th>team_name</th>\n",
       "      <th>class_year</th>\n",
       "      <th>position</th>\n",
       "      <th>goals</th>\n",
       "      <th>sh_att</th>\n",
       "      <th>team_id_opposition</th>\n",
       "      <th>team_name_opposition</th>\n",
       "    </tr>\n",
       "  </thead>\n",
       "  <tbody>\n",
       "    <tr>\n",
       "      <th>115726</th>\n",
       "      <td>4413218</td>\n",
       "      <td>1808925.0</td>\n",
       "      <td>Ozor, Jerry</td>\n",
       "      <td>68</td>\n",
       "      <td>Boston U.</td>\n",
       "      <td>So</td>\n",
       "      <td>M</td>\n",
       "      <td>1</td>\n",
       "      <td>1</td>\n",
       "      <td>285</td>\n",
       "      <td>Holy Cross</td>\n",
       "    </tr>\n",
       "    <tr>\n",
       "      <th>115746</th>\n",
       "      <td>4413218</td>\n",
       "      <td>1808926.0</td>\n",
       "      <td>McDonnell, Matt</td>\n",
       "      <td>68</td>\n",
       "      <td>Boston U.</td>\n",
       "      <td>So</td>\n",
       "      <td>F</td>\n",
       "      <td>1</td>\n",
       "      <td>1</td>\n",
       "      <td>285</td>\n",
       "      <td>Holy Cross</td>\n",
       "    </tr>\n",
       "    <tr>\n",
       "      <th>115763</th>\n",
       "      <td>4384327</td>\n",
       "      <td>1572966.0</td>\n",
       "      <td>Cichero, Mauro</td>\n",
       "      <td>663</td>\n",
       "      <td>SMU</td>\n",
       "      <td>Sr</td>\n",
       "      <td>F</td>\n",
       "      <td>1</td>\n",
       "      <td>1</td>\n",
       "      <td>167</td>\n",
       "      <td>Cornell</td>\n",
       "    </tr>\n",
       "    <tr>\n",
       "      <th>115773</th>\n",
       "      <td>4384327</td>\n",
       "      <td>1786666.0</td>\n",
       "      <td>McLaughlin, Garrett</td>\n",
       "      <td>663</td>\n",
       "      <td>SMU</td>\n",
       "      <td>So</td>\n",
       "      <td>F</td>\n",
       "      <td>1</td>\n",
       "      <td>1</td>\n",
       "      <td>167</td>\n",
       "      <td>Cornell</td>\n",
       "    </tr>\n",
       "    <tr>\n",
       "      <th>115835</th>\n",
       "      <td>4384327</td>\n",
       "      <td>1572962.0</td>\n",
       "      <td>Welch, Garrett</td>\n",
       "      <td>663</td>\n",
       "      <td>SMU</td>\n",
       "      <td>Sr</td>\n",
       "      <td>D</td>\n",
       "      <td>1</td>\n",
       "      <td>1</td>\n",
       "      <td>167</td>\n",
       "      <td>Cornell</td>\n",
       "    </tr>\n",
       "  </tbody>\n",
       "</table>\n",
       "</div>"
      ],
      "text/plain": [
       "        game_id  player_id          player_name  team_id  team_name  \\\n",
       "115726  4413218  1808925.0          Ozor, Jerry       68  Boston U.   \n",
       "115746  4413218  1808926.0      McDonnell, Matt       68  Boston U.   \n",
       "115763  4384327  1572966.0       Cichero, Mauro      663        SMU   \n",
       "115773  4384327  1786666.0  McLaughlin, Garrett      663        SMU   \n",
       "115835  4384327  1572962.0       Welch, Garrett      663        SMU   \n",
       "\n",
       "       class_year position  goals  sh_att  team_id_opposition  \\\n",
       "115726         So        M      1       1                 285   \n",
       "115746         So        F      1       1                 285   \n",
       "115763         Sr        F      1       1                 167   \n",
       "115773         So        F      1       1                 167   \n",
       "115835         Sr        D      1       1                 167   \n",
       "\n",
       "       team_name_opposition  \n",
       "115726           Holy Cross  \n",
       "115746           Holy Cross  \n",
       "115763              Cornell  \n",
       "115773              Cornell  \n",
       "115835              Cornell  "
      ]
     },
     "execution_count": 38,
     "metadata": {},
     "output_type": "execute_result"
    }
   ],
   "source": [
    "goals = shots.copy()\n",
    "goals = goals[goals.goals > 0]\n",
    "goals['sh_att'] = 1\n",
    "goals.tail()"
   ]
  },
  {
   "cell_type": "code",
   "execution_count": 39,
   "metadata": {
    "collapsed": true
   },
   "outputs": [],
   "source": [
    "goals_rep = pd.DataFrame([goals.ix[idx]\n",
    "                       for idx in goals.index \n",
    "                       for _ in range(goals.ix[idx]['goals'])]).reset_index(drop=True)"
   ]
  },
  {
   "cell_type": "code",
   "execution_count": 40,
   "metadata": {},
   "outputs": [
    {
     "data": {
      "text/plain": [
       "player_name\n",
       "Guirassy, Mamadou     16\n",
       "Roberts, Kieran       15\n",
       "Patino, Santiago      15\n",
       "Forrest, Mark         15\n",
       "O'Grady, Jamie        14\n",
       "Brodacki, Niklas      14\n",
       "Musovski, Danny       14\n",
       "Bakero, Jon           13\n",
       "Donnelly, JJ          13\n",
       "Mastrangelo, Mario    13\n",
       "Name: goals, dtype: int64"
      ]
     },
     "execution_count": 40,
     "metadata": {},
     "output_type": "execute_result"
    }
   ],
   "source": [
    "goals_rep['goals'] = 1\n",
    "goals_rep.groupby('player_name').goals.sum().sort_values(ascending=False)[0:10]"
   ]
  },
  {
   "cell_type": "markdown",
   "metadata": {},
   "source": [
    "Looks good"
   ]
  },
  {
   "cell_type": "code",
   "execution_count": 41,
   "metadata": {
    "collapsed": true
   },
   "outputs": [],
   "source": [
    "non_goals_rep = pd.DataFrame([non_goals.ix[idx]\n",
    "                       for idx in non_goals.index \n",
    "                       for _ in range(non_goals.ix[idx]['sh_att'])]).reset_index(drop=True)"
   ]
  },
  {
   "cell_type": "code",
   "execution_count": 42,
   "metadata": {},
   "outputs": [
    {
     "data": {
      "text/html": [
       "<div>\n",
       "<table border=\"1\" class=\"dataframe\">\n",
       "  <thead>\n",
       "    <tr style=\"text-align: right;\">\n",
       "      <th></th>\n",
       "      <th>game_id</th>\n",
       "      <th>player_id</th>\n",
       "      <th>player_name</th>\n",
       "      <th>team_id</th>\n",
       "      <th>team_name</th>\n",
       "      <th>class_year</th>\n",
       "      <th>position</th>\n",
       "      <th>goals</th>\n",
       "      <th>sh_att</th>\n",
       "      <th>team_id_opposition</th>\n",
       "      <th>team_name_opposition</th>\n",
       "    </tr>\n",
       "  </thead>\n",
       "  <tbody>\n",
       "    <tr>\n",
       "      <th>37749</th>\n",
       "      <td>4384327</td>\n",
       "      <td>1608282.0</td>\n",
       "      <td>Nuss, Eric</td>\n",
       "      <td>167</td>\n",
       "      <td>Cornell</td>\n",
       "      <td>Sr</td>\n",
       "      <td>D</td>\n",
       "      <td>0</td>\n",
       "      <td>1</td>\n",
       "      <td>663</td>\n",
       "      <td>SMU</td>\n",
       "    </tr>\n",
       "    <tr>\n",
       "      <th>37750</th>\n",
       "      <td>4384327</td>\n",
       "      <td>1794852.0</td>\n",
       "      <td>Pedlow, George</td>\n",
       "      <td>167</td>\n",
       "      <td>Cornell</td>\n",
       "      <td>So</td>\n",
       "      <td>F</td>\n",
       "      <td>0</td>\n",
       "      <td>1</td>\n",
       "      <td>663</td>\n",
       "      <td>SMU</td>\n",
       "    </tr>\n",
       "    <tr>\n",
       "      <th>37751</th>\n",
       "      <td>4384327</td>\n",
       "      <td>1794852.0</td>\n",
       "      <td>Pedlow, George</td>\n",
       "      <td>167</td>\n",
       "      <td>Cornell</td>\n",
       "      <td>So</td>\n",
       "      <td>F</td>\n",
       "      <td>0</td>\n",
       "      <td>1</td>\n",
       "      <td>663</td>\n",
       "      <td>SMU</td>\n",
       "    </tr>\n",
       "    <tr>\n",
       "      <th>37752</th>\n",
       "      <td>4384327</td>\n",
       "      <td>1794846.0</td>\n",
       "      <td>Adams, Riley</td>\n",
       "      <td>167</td>\n",
       "      <td>Cornell</td>\n",
       "      <td>So</td>\n",
       "      <td>NaN</td>\n",
       "      <td>0</td>\n",
       "      <td>1</td>\n",
       "      <td>663</td>\n",
       "      <td>SMU</td>\n",
       "    </tr>\n",
       "    <tr>\n",
       "      <th>37753</th>\n",
       "      <td>4384327</td>\n",
       "      <td>1608285.0</td>\n",
       "      <td>Griffin, Tommy</td>\n",
       "      <td>167</td>\n",
       "      <td>Cornell</td>\n",
       "      <td>Sr</td>\n",
       "      <td>NaN</td>\n",
       "      <td>0</td>\n",
       "      <td>1</td>\n",
       "      <td>663</td>\n",
       "      <td>SMU</td>\n",
       "    </tr>\n",
       "  </tbody>\n",
       "</table>\n",
       "</div>"
      ],
      "text/plain": [
       "       game_id  player_id     player_name  team_id team_name class_year  \\\n",
       "37749  4384327  1608282.0      Nuss, Eric      167   Cornell         Sr   \n",
       "37750  4384327  1794852.0  Pedlow, George      167   Cornell         So   \n",
       "37751  4384327  1794852.0  Pedlow, George      167   Cornell         So   \n",
       "37752  4384327  1794846.0    Adams, Riley      167   Cornell         So   \n",
       "37753  4384327  1608285.0  Griffin, Tommy      167   Cornell         Sr   \n",
       "\n",
       "      position  goals  sh_att  team_id_opposition team_name_opposition  \n",
       "37749        D      0       1                 663                  SMU  \n",
       "37750        F      0       1                 663                  SMU  \n",
       "37751        F      0       1                 663                  SMU  \n",
       "37752      NaN      0       1                 663                  SMU  \n",
       "37753      NaN      0       1                 663                  SMU  "
      ]
     },
     "execution_count": 42,
     "metadata": {},
     "output_type": "execute_result"
    }
   ],
   "source": [
    "non_goals_rep['sh_att'] = 1\n",
    "non_goals_rep.tail()"
   ]
  },
  {
   "cell_type": "code",
   "execution_count": 43,
   "metadata": {},
   "outputs": [
    {
     "data": {
      "text/html": [
       "<div>\n",
       "<table border=\"1\" class=\"dataframe\">\n",
       "  <thead>\n",
       "    <tr style=\"text-align: right;\">\n",
       "      <th></th>\n",
       "      <th>game_id</th>\n",
       "      <th>player_id</th>\n",
       "      <th>player_name</th>\n",
       "      <th>team_id</th>\n",
       "      <th>team_name</th>\n",
       "      <th>class_year</th>\n",
       "      <th>position</th>\n",
       "      <th>goals</th>\n",
       "      <th>sh_att</th>\n",
       "      <th>team_id_opposition</th>\n",
       "      <th>team_name_opposition</th>\n",
       "    </tr>\n",
       "  </thead>\n",
       "  <tbody>\n",
       "    <tr>\n",
       "      <th>0</th>\n",
       "      <td>4378055</td>\n",
       "      <td>1908773.0</td>\n",
       "      <td>Ekdahl, George</td>\n",
       "      <td>19651</td>\n",
       "      <td>High Point</td>\n",
       "      <td>Fr</td>\n",
       "      <td>NaN</td>\n",
       "      <td>1</td>\n",
       "      <td>1</td>\n",
       "      <td>290</td>\n",
       "      <td>Howard</td>\n",
       "    </tr>\n",
       "    <tr>\n",
       "      <th>1</th>\n",
       "      <td>4379236</td>\n",
       "      <td>1790668.0</td>\n",
       "      <td>Weyant, Colin</td>\n",
       "      <td>391</td>\n",
       "      <td>UMBC</td>\n",
       "      <td>So</td>\n",
       "      <td>M</td>\n",
       "      <td>1</td>\n",
       "      <td>1</td>\n",
       "      <td>290</td>\n",
       "      <td>Howard</td>\n",
       "    </tr>\n",
       "    <tr>\n",
       "      <th>2</th>\n",
       "      <td>4382728</td>\n",
       "      <td>1800888.0</td>\n",
       "      <td>Matteo, Ryan</td>\n",
       "      <td>813</td>\n",
       "      <td>Yale</td>\n",
       "      <td>So</td>\n",
       "      <td>M</td>\n",
       "      <td>1</td>\n",
       "      <td>1</td>\n",
       "      <td>290</td>\n",
       "      <td>Howard</td>\n",
       "    </tr>\n",
       "    <tr>\n",
       "      <th>3</th>\n",
       "      <td>4382728</td>\n",
       "      <td>1800927.0</td>\n",
       "      <td>Leisman, John</td>\n",
       "      <td>813</td>\n",
       "      <td>Yale</td>\n",
       "      <td>So</td>\n",
       "      <td>NaN</td>\n",
       "      <td>1</td>\n",
       "      <td>1</td>\n",
       "      <td>290</td>\n",
       "      <td>Howard</td>\n",
       "    </tr>\n",
       "    <tr>\n",
       "      <th>4</th>\n",
       "      <td>4391432</td>\n",
       "      <td>1906423.0</td>\n",
       "      <td>Donnelly, JJ</td>\n",
       "      <td>115</td>\n",
       "      <td>Campbell</td>\n",
       "      <td>Fr</td>\n",
       "      <td>NaN</td>\n",
       "      <td>1</td>\n",
       "      <td>1</td>\n",
       "      <td>290</td>\n",
       "      <td>Howard</td>\n",
       "    </tr>\n",
       "  </tbody>\n",
       "</table>\n",
       "</div>"
      ],
      "text/plain": [
       "   game_id  player_id     player_name  team_id   team_name class_year  \\\n",
       "0  4378055  1908773.0  Ekdahl, George    19651  High Point         Fr   \n",
       "1  4379236  1790668.0   Weyant, Colin      391        UMBC         So   \n",
       "2  4382728  1800888.0    Matteo, Ryan      813        Yale         So   \n",
       "3  4382728  1800927.0   Leisman, John      813        Yale         So   \n",
       "4  4391432  1906423.0    Donnelly, JJ      115    Campbell         Fr   \n",
       "\n",
       "  position  goals  sh_att  team_id_opposition team_name_opposition  \n",
       "0      NaN      1       1                 290               Howard  \n",
       "1        M      1       1                 290               Howard  \n",
       "2        M      1       1                 290               Howard  \n",
       "3      NaN      1       1                 290               Howard  \n",
       "4      NaN      1       1                 290               Howard  "
      ]
     },
     "execution_count": 43,
     "metadata": {},
     "output_type": "execute_result"
    }
   ],
   "source": [
    "unrolled_df = pd.concat([goals_rep, non_goals_rep], axis=0)\n",
    "unrolled_df.head()"
   ]
  },
  {
   "cell_type": "code",
   "execution_count": 44,
   "metadata": {},
   "outputs": [
    {
     "data": {
      "text/plain": [
       "player_name\n",
       "Guirassy, Mamadou      16\n",
       "Forrest, Mark          15\n",
       "Patino, Santiago       15\n",
       "Roberts, Kieran        15\n",
       "O'Grady, Jamie         14\n",
       "Brodacki, Niklas       14\n",
       "Musovski, Danny        14\n",
       "Godoy, Giovanni        13\n",
       "Mastrangelo, Mario     13\n",
       "McLaughlin, Garrett    13\n",
       "Name: goals, dtype: int64"
      ]
     },
     "execution_count": 44,
     "metadata": {},
     "output_type": "execute_result"
    }
   ],
   "source": [
    "unrolled_df.groupby('player_name').goals.sum().sort_values(ascending=False)[0:10]"
   ]
  },
  {
   "cell_type": "code",
   "execution_count": 45,
   "metadata": {},
   "outputs": [
    {
     "data": {
      "text/plain": [
       "player_name\n",
       "Roldan, Alex           90\n",
       "Roberts, Kieran        90\n",
       "Guirassy, Mamadou      89\n",
       "Gallagher, Jon         78\n",
       "Bye, Brandon           77\n",
       "Steeves, Mac           77\n",
       "Donnelly, JJ           70\n",
       "Forrest, Mark          66\n",
       "Thiam, Abdou Mbacke    65\n",
       "Moon, Nick             64\n",
       "Name: sh_att, dtype: int64"
      ]
     },
     "execution_count": 45,
     "metadata": {},
     "output_type": "execute_result"
    }
   ],
   "source": [
    "unrolled_df.groupby('player_name').sh_att.sum().sort_values(ascending=False)[0:10]"
   ]
  },
  {
   "cell_type": "code",
   "execution_count": 46,
   "metadata": {},
   "outputs": [
    {
     "data": {
      "text/plain": [
       "(42508, 11)"
      ]
     },
     "execution_count": 46,
     "metadata": {},
     "output_type": "execute_result"
    }
   ],
   "source": [
    "unrolled_df.shape"
   ]
  },
  {
   "cell_type": "code",
   "execution_count": 47,
   "metadata": {},
   "outputs": [
    {
     "data": {
      "text/plain": [
       "42508"
      ]
     },
     "execution_count": 47,
     "metadata": {},
     "output_type": "execute_result"
    }
   ],
   "source": [
    "unrolled_df.sh_att.sum()"
   ]
  },
  {
   "cell_type": "markdown",
   "metadata": {},
   "source": [
    "Good it's all been recovered. Let's write that out now for a separate analysis file"
   ]
  },
  {
   "cell_type": "code",
   "execution_count": 48,
   "metadata": {},
   "outputs": [],
   "source": [
    "unrolled_df.to_csv(\"ncaa_by_shot.csv\")"
   ]
  },
  {
   "cell_type": "markdown",
   "metadata": {},
   "source": [
    "Data exploration - in how many games do teams play multiple goalies? It would be worthwhile to add goalkeepers to the model, but without parsing play by play data the correct goalie could be trickier to pick out"
   ]
  },
  {
   "cell_type": "code",
   "execution_count": 49,
   "metadata": {},
   "outputs": [
    {
     "data": {
      "text/plain": [
       "array(['game_id', 'section_id', 'player_id', 'player_name', 'player_url',\n",
       "       'position', 'goals', 'assists', 'sh_att', 'sog', 'fouls',\n",
       "       'red_cards', 'yellow_cards', 'gc', 'goal_app', 'ggs',\n",
       "       'goalie_min_plyd', 'ga', 'saves', 'shutouts', 'g_wins', 'g_loss',\n",
       "       'dsaves', 'corners'], dtype=object)"
      ]
     },
     "execution_count": 49,
     "metadata": {},
     "output_type": "execute_result"
    }
   ],
   "source": [
    "df.columns.values"
   ]
  },
  {
   "cell_type": "code",
   "execution_count": 51,
   "metadata": {},
   "outputs": [
    {
     "data": {
      "text/plain": [
       "1773"
      ]
     },
     "execution_count": 51,
     "metadata": {},
     "output_type": "execute_result"
    }
   ],
   "source": [
    "len(df.game_id.unique())"
   ]
  },
  {
   "cell_type": "code",
   "execution_count": 52,
   "metadata": {},
   "outputs": [
    {
     "data": {
      "text/plain": [
       "189"
      ]
     },
     "execution_count": 52,
     "metadata": {},
     "output_type": "execute_result"
    }
   ],
   "source": [
    "sum(df[df['goalie_min_plyd'] > 0].groupby('game_id').size() > 2)"
   ]
  },
  {
   "cell_type": "markdown",
   "metadata": {},
   "source": [
    "So in 10% of games more than one goalie gets minutes for a team."
   ]
  },
  {
   "cell_type": "markdown",
   "metadata": {},
   "source": [
    "All that really matters though is crediting saves - so in how many games does more than one goalie make a save for a team?"
   ]
  },
  {
   "cell_type": "code",
   "execution_count": 54,
   "metadata": {},
   "outputs": [
    {
     "data": {
      "text/plain": [
       "103"
      ]
     },
     "execution_count": 54,
     "metadata": {},
     "output_type": "execute_result"
    }
   ],
   "source": [
    "sum(df[df['saves'] > 0].groupby('game_id').size() > 2)"
   ]
  },
  {
   "cell_type": "markdown",
   "metadata": {},
   "source": [
    "So like 6% of games. Hmm. That might be too high to do any fuzzy matching. I'd need to dig into the play by play data to get that, which is probably more effort than I'm interested in putting forth right now."
   ]
  },
  {
   "cell_type": "code",
   "execution_count": null,
   "metadata": {
    "collapsed": true
   },
   "outputs": [],
   "source": []
  }
 ],
 "metadata": {
  "kernelspec": {
   "display_name": "Python 3",
   "language": "python",
   "name": "python3"
  },
  "language_info": {
   "codemirror_mode": {
    "name": "ipython",
    "version": 3
   },
   "file_extension": ".py",
   "mimetype": "text/x-python",
   "name": "python",
   "nbconvert_exporter": "python",
   "pygments_lexer": "ipython3",
   "version": "3.6.0"
  }
 },
 "nbformat": 4,
 "nbformat_minor": 2
}
